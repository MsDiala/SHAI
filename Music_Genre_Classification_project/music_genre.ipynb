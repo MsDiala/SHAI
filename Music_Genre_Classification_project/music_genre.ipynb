{
 "cells": [
  {
   "attachments": {},
   "cell_type": "markdown",
   "metadata": {},
   "source": [
    "# Importing Libraries and Loading the Data"
   ]
  },
  {
   "cell_type": "code",
   "execution_count": 176,
   "metadata": {},
   "outputs": [],
   "source": [
    "import pandas as pd\n",
    "import numpy as np\n",
    "import matplotlib.pyplot as plt\n",
    "import seaborn as sns\n",
    "from sklearn.preprocessing import StandardScaler\n",
    "from sklearn.model_selection import train_test_split\n",
    "from sklearn.ensemble import RandomForestClassifier\n",
    "from sklearn.metrics import accuracy_score, classification_report\n",
    "from sklearn.impute import SimpleImputer\n",
    "from sklearn.preprocessing import StandardScaler\n",
    "from sklearn.compose import ColumnTransformer\n",
    "from sklearn.pipeline import Pipeline\n",
    "from sklearn.model_selection import train_test_split, GridSearchCV\n"
   ]
  },
  {
   "cell_type": "code",
   "execution_count": 177,
   "metadata": {},
   "outputs": [],
   "source": [
    "# Load the data\n",
    "train_data = pd.read_csv('train (1).csv')\n",
    "test_data = pd.read_csv('test (2).csv')"
   ]
  },
  {
   "attachments": {},
   "cell_type": "markdown",
   "metadata": {},
   "source": [
    "# Exploratory Data Analysis (EDA)"
   ]
  },
  {
   "cell_type": "code",
   "execution_count": 178,
   "metadata": {},
   "outputs": [
    {
     "name": "stdout",
     "output_type": "stream",
     "text": [
      "   Id          Artist Name       Track Name  Popularity  danceability  energy  \\\n",
      "0   1    Marina Maximilian       Not Afraid        37.0         0.334   0.536   \n",
      "1   2       The Black Keys  Howlin' for You        67.0         0.725   0.747   \n",
      "2   3  Royal & the Serpent          phuck u         NaN         0.584   0.804   \n",
      "3   4   Detroit Blues Band      Missing You        12.0         0.515   0.308   \n",
      "4   5         Coast Contra          My Lady        48.0         0.565   0.777   \n",
      "\n",
      "    key  loudness  mode  speechiness  acousticness  instrumentalness  \\\n",
      "0   9.0    -6.649     0       0.0381      0.378000               NaN   \n",
      "1  11.0    -5.545     1       0.0876      0.027200            0.0468   \n",
      "2   7.0    -6.094     1       0.0619      0.000968            0.6350   \n",
      "3   NaN   -14.711     1       0.0312      0.907000            0.0213   \n",
      "4   6.0    -5.096     0       0.2490      0.183000               NaN   \n",
      "\n",
      "   liveness  valence    tempo  duration_in min/ms  time_signature  Class  \n",
      "0     0.106    0.235  152.429            204947.0               4      9  \n",
      "1     0.104    0.380  132.921            191956.0               4      6  \n",
      "2     0.284    0.635  159.953            161037.0               4     10  \n",
      "3     0.300    0.501  172.472            298093.0               3      2  \n",
      "4     0.211    0.619   88.311            254145.0               4      5  \n"
     ]
    }
   ],
   "source": [
    "# Check the first few rows of the training data\n",
    "print(train_data.head())"
   ]
  },
  {
   "cell_type": "code",
   "execution_count": 179,
   "metadata": {},
   "outputs": [
    {
     "name": "stdout",
     "output_type": "stream",
     "text": [
      "                 Id    Popularity  danceability        energy           key  \\\n",
      "count  14396.000000  14063.000000  14396.000000  14396.000000  12787.000000   \n",
      "mean    7198.500000     44.525208      0.543105      0.662422      5.953781   \n",
      "std     4155.911573     17.418940      0.165517      0.235967      3.200013   \n",
      "min        1.000000      1.000000      0.059600      0.001210      1.000000   \n",
      "25%     3599.750000     33.000000      0.432000      0.508000      3.000000   \n",
      "50%     7198.500000     44.000000      0.545000      0.699000      6.000000   \n",
      "75%    10797.250000     56.000000      0.658000      0.861000      9.000000   \n",
      "max    14396.000000    100.000000      0.989000      1.000000     11.000000   \n",
      "\n",
      "           loudness          mode   speechiness  acousticness  \\\n",
      "count  14396.000000  14396.000000  14396.000000  14396.000000   \n",
      "mean      -7.900852      0.640247      0.080181      0.246746   \n",
      "std        4.057362      0.479944      0.085157      0.310922   \n",
      "min      -39.952000      0.000000      0.022500      0.000000   \n",
      "25%       -9.538000      0.000000      0.034800      0.004280   \n",
      "50%       -7.013500      1.000000      0.047100      0.081450   \n",
      "75%       -5.162000      1.000000      0.083100      0.432250   \n",
      "max        1.342000      1.000000      0.955000      0.996000   \n",
      "\n",
      "       instrumentalness      liveness       valence         tempo  \\\n",
      "count      10855.000000  14396.000000  14396.000000  14396.000000   \n",
      "mean           0.178129      0.195782      0.486379    122.695372   \n",
      "std            0.304266      0.159258      0.239476     29.538490   \n",
      "min            0.000001      0.011900      0.021500     30.557000   \n",
      "25%            0.000088      0.097275      0.299000     99.799000   \n",
      "50%            0.003920      0.129000      0.480500    120.060000   \n",
      "75%            0.201000      0.256000      0.672000    141.988250   \n",
      "max            0.996000      0.992000      0.986000    217.416000   \n",
      "\n",
      "       duration_in min/ms  time_signature         Class  \n",
      "count        1.439600e+04    14396.000000  14396.000000  \n",
      "mean         2.000942e+05        3.924354      6.695679  \n",
      "std          1.116891e+05        0.359520      3.206170  \n",
      "min          5.016500e-01        1.000000      0.000000  \n",
      "25%          1.654458e+05        4.000000      5.000000  \n",
      "50%          2.089410e+05        4.000000      8.000000  \n",
      "75%          2.522470e+05        4.000000     10.000000  \n",
      "max          1.477187e+06        5.000000     10.000000  \n"
     ]
    }
   ],
   "source": [
    "# Summary statistics of the training data\n",
    "print(train_data.describe())"
   ]
  },
  {
   "cell_type": "code",
   "execution_count": 180,
   "metadata": {},
   "outputs": [
    {
     "name": "stdout",
     "output_type": "stream",
     "text": [
      "Id                       0\n",
      "Artist Name              0\n",
      "Track Name               0\n",
      "Popularity             333\n",
      "danceability             0\n",
      "energy                   0\n",
      "key                   1609\n",
      "loudness                 0\n",
      "mode                     0\n",
      "speechiness              0\n",
      "acousticness             0\n",
      "instrumentalness      3541\n",
      "liveness                 0\n",
      "valence                  0\n",
      "tempo                    0\n",
      "duration_in min/ms       0\n",
      "time_signature           0\n",
      "Class                    0\n",
      "dtype: int64\n"
     ]
    }
   ],
   "source": [
    "# Check for any missing values\n",
    "print(train_data.isnull().sum())"
   ]
  },
  {
   "cell_type": "code",
   "execution_count": 181,
   "metadata": {},
   "outputs": [
    {
     "data": {
      "image/png": "[encoded data removed]",
      "text/plain": [
       "<Figure size 720x432 with 1 Axes>"
      ]
     },
     "metadata": {
      "needs_background": "light"
     },
     "output_type": "display_data"
    }
   ],
   "source": [
    "# Check the distribution of genres in the training data\n",
    "plt.figure(figsize=(10, 6))\n",
    "sns.countplot(x='Class', data=train_data)\n",
    "plt.title('Distribution of Music Genres')\n",
    "plt.xlabel('Genres')\n",
    "plt.ylabel('Count')\n",
    "plt.xticks(rotation=45)\n",
    "plt.show()"
   ]
  },
  {
   "attachments": {},
   "cell_type": "markdown",
   "metadata": {},
   "source": [
    "# Data Preprocessing"
   ]
  },
  {
   "cell_type": "code",
   "execution_count": 182,
   "metadata": {},
   "outputs": [],
   "source": [
    "# Save the 'Id' column from the test data\n",
    "test_ids = test_data['Id']"
   ]
  },
  {
   "cell_type": "code",
   "execution_count": 183,
   "metadata": {},
   "outputs": [],
   "source": [
    "# Drop irrelevant columns like 'Id', 'Artist Name', 'Track Name'\n",
    "train_data = train_data.drop(['Id', 'Artist Name', 'Track Name'], axis=1)\n",
    "test_data = test_data.drop(['Artist Name', 'Track Name'], axis=1)  # Keep 'Id' column for submission"
   ]
  },
  {
   "cell_type": "code",
   "execution_count": 184,
   "metadata": {},
   "outputs": [],
   "source": [
    "X = train_data.drop('Class', axis=1)\n",
    "y = train_data['Class']"
   ]
  },
  {
   "cell_type": "code",
   "execution_count": 185,
   "metadata": {},
   "outputs": [],
   "source": [
    "# Scale the numerical features\n",
    "scaler = StandardScaler()\n",
    "X_scaled = scaler.fit_transform(X)"
   ]
  },
  {
   "cell_type": "code",
   "execution_count": 186,
   "metadata": {},
   "outputs": [],
   "source": [
    "# Split the data into training and validation sets\n",
    "X_train, X_val, y_train, y_val = train_test_split(X_scaled, y, test_size=0.2, random_state=42)"
   ]
  },
  {
   "cell_type": "code",
   "execution_count": 187,
   "metadata": {},
   "outputs": [],
   "source": [
    "# Scale the features\n",
    "scaler = StandardScaler()\n",
    "X_train_scaled = scaler.fit_transform(X_train)\n",
    "X_val_scaled = scaler.transform(X_val)"
   ]
  },
  {
   "attachments": {},
   "cell_type": "markdown",
   "metadata": {},
   "source": [
    "# Model Training"
   ]
  },
  {
   "cell_type": "code",
   "execution_count": 188,
   "metadata": {},
   "outputs": [],
   "source": [
    "\n",
    "# Create a pipeline for preprocessing and model training\n",
    "preprocessor = Pipeline([\n",
    "    ('imputer', SimpleImputer(strategy='median')),\n",
    "    ('scaler', StandardScaler())\n",
    "])\n"
   ]
  },
  {
   "cell_type": "code",
   "execution_count": 189,
   "metadata": {},
   "outputs": [],
   "source": [
    "# Transform the training data using the preprocessor\n",
    "X_train_processed = preprocessor.fit_transform(X_train)"
   ]
  },
  {
   "cell_type": "code",
   "execution_count": 190,
   "metadata": {},
   "outputs": [],
   "source": [
    "# Initialize the model\n",
    "model = RandomForestClassifier(random_state=42)"
   ]
  },
  {
   "cell_type": "code",
   "execution_count": 191,
   "metadata": {},
   "outputs": [
    {
     "data": {
      "text/html": [
       "<style>#sk-container-id-6 {color: black;background-color: white;}#sk-container-id-6 pre{padding: 0;}#sk-container-id-6 div.sk-toggleable {background-color: white;}#sk-container-id-6 label.sk-toggleable__label {cursor: pointer;display: block;width: 100%;margin-bottom: 0;padding: 0.3em;box-sizing: border-box;text-align: center;}#sk-container-id-6 label.sk-toggleable__label-arrow:before {content: \"▸\";float: left;margin-right: 0.25em;color: #696969;}#sk-container-id-6 label.sk-toggleable__label-arrow:hover:before {color: black;}#sk-container-id-6 div.sk-estimator:hover label.sk-toggleable__label-arrow:before {color: black;}#sk-container-id-6 div.sk-toggleable__content {max-height: 0;max-width: 0;overflow: hidden;text-align: left;background-color: #f0f8ff;}#sk-container-id-6 div.sk-toggleable__content pre {margin: 0.2em;color: black;border-radius: 0.25em;background-color: #f0f8ff;}#sk-container-id-6 input.sk-toggleable__control:checked~div.sk-toggleable__content {max-height: 200px;max-width: 100%;overflow: auto;}#sk-container-id-6 input.sk-toggleable__control:checked~label.sk-toggleable__label-arrow:before {content: \"▾\";}#sk-container-id-6 div.sk-estimator input.sk-toggleable__control:checked~label.sk-toggleable__label {background-color: #d4ebff;}#sk-container-id-6 div.sk-label input.sk-toggleable__control:checked~label.sk-toggleable__label {background-color: #d4ebff;}#sk-container-id-6 input.sk-hidden--visually {border: 0;clip: rect(1px 1px 1px 1px);clip: rect(1px, 1px, 1px, 1px);height: 1px;margin: -1px;overflow: hidden;padding: 0;position: absolute;width: 1px;}#sk-container-id-6 div.sk-estimator {font-family: monospace;background-color: #f0f8ff;border: 1px dotted black;border-radius: 0.25em;box-sizing: border-box;margin-bottom: 0.5em;}#sk-container-id-6 div.sk-estimator:hover {background-color: #d4ebff;}#sk-container-id-6 div.sk-parallel-item::after {content: \"\";width: 100%;border-bottom: 1px solid gray;flex-grow: 1;}#sk-container-id-6 div.sk-label:hover label.sk-toggleable__label {background-color: #d4ebff;}#sk-container-id-6 div.sk-serial::before {content: \"\";position: absolute;border-left: 1px solid gray;box-sizing: border-box;top: 0;bottom: 0;left: 50%;z-index: 0;}#sk-container-id-6 div.sk-serial {display: flex;flex-direction: column;align-items: center;background-color: white;padding-right: 0.2em;padding-left: 0.2em;position: relative;}#sk-container-id-6 div.sk-item {position: relative;z-index: 1;}#sk-container-id-6 div.sk-parallel {display: flex;align-items: stretch;justify-content: center;background-color: white;position: relative;}#sk-container-id-6 div.sk-item::before, #sk-container-id-6 div.sk-parallel-item::before {content: \"\";position: absolute;border-left: 1px solid gray;box-sizing: border-box;top: 0;bottom: 0;left: 50%;z-index: -1;}#sk-container-id-6 div.sk-parallel-item {display: flex;flex-direction: column;z-index: 1;position: relative;background-color: white;}#sk-container-id-6 div.sk-parallel-item:first-child::after {align-self: flex-end;width: 50%;}#sk-container-id-6 div.sk-parallel-item:last-child::after {align-self: flex-start;width: 50%;}#sk-container-id-6 div.sk-parallel-item:only-child::after {width: 0;}#sk-container-id-6 div.sk-dashed-wrapped {border: 1px dashed gray;margin: 0 0.4em 0.5em 0.4em;box-sizing: border-box;padding-bottom: 0.4em;background-color: white;}#sk-container-id-6 div.sk-label label {font-family: monospace;font-weight: bold;display: inline-block;line-height: 1.2em;}#sk-container-id-6 div.sk-label-container {text-align: center;}#sk-container-id-6 div.sk-container {/* jupyter's `normalize.less` sets `[hidden] { display: none; }` but bootstrap.min.css set `[hidden] { display: none !important; }` so we also need the `!important` here to be able to override the default hidden behavior on the sphinx rendered scikit-learn.org. See: https://github.com/scikit-learn/scikit-learn/issues/21755 */display: inline-block !important;position: relative;}#sk-container-id-6 div.sk-text-repr-fallback {display: none;}</style><div id=\"sk-container-id-6\" class=\"sk-top-container\"><div class=\"sk-text-repr-fallback\"><pre>RandomForestClassifier(random_state=42)</pre><b>In a Jupyter environment, please rerun this cell to show the HTML representation or trust the notebook. <br />On GitHub, the HTML representation is unable to render, please try loading this page with nbviewer.org.</b></div><div class=\"sk-container\" hidden><div class=\"sk-item\"><div class=\"sk-estimator sk-toggleable\"><input class=\"sk-toggleable__control sk-hidden--visually\" id=\"sk-estimator-id-6\" type=\"checkbox\" checked><label for=\"sk-estimator-id-6\" class=\"sk-toggleable__label sk-toggleable__label-arrow\">RandomForestClassifier</label><div class=\"sk-toggleable__content\"><pre>RandomForestClassifier(random_state=42)</pre></div></div></div></div></div>"
      ],
      "text/plain": [
       "RandomForestClassifier(random_state=42)"
      ]
     },
     "execution_count": 191,
     "metadata": {},
     "output_type": "execute_result"
    }
   ],
   "source": [
    "# Train the model\n",
    "model.fit(X_train_processed, y_train)"
   ]
  },
  {
   "cell_type": "code",
   "execution_count": 192,
   "metadata": {},
   "outputs": [],
   "source": [
    "\n",
    "# Make predictions on the validation set (assuming you don't have a separate validation set)\n",
    "y_pred = model.predict(X_train_processed)  # You should replace X_train_processed with X_val_processed if you have a validation set"
   ]
  },
  {
   "cell_type": "code",
   "execution_count": 193,
   "metadata": {},
   "outputs": [
    {
     "name": "stdout",
     "output_type": "stream",
     "text": [
      "Accuracy: 0.94\n"
     ]
    }
   ],
   "source": [
    "# Evaluate the model\n",
    "accuracy = accuracy_score(y_train, y_pred)  # You should replace y_train with y_val if you have a validation set\n",
    "print(f'Accuracy: {accuracy:.2f}')"
   ]
  },
  {
   "cell_type": "code",
   "execution_count": 194,
   "metadata": {},
   "outputs": [
    {
     "name": "stdout",
     "output_type": "stream",
     "text": [
      "              precision    recall  f1-score   support\n",
      "\n",
      "           0       1.00      1.00      1.00       396\n",
      "           1       0.83      0.77      0.80       894\n",
      "           2       0.98      0.97      0.98       783\n",
      "           3       1.00      1.00      1.00       254\n",
      "           4       1.00      1.00      1.00       242\n",
      "           5       0.98      0.99      0.99       921\n",
      "           6       0.90      0.89      0.89      1666\n",
      "           7       1.00      1.00      1.00       374\n",
      "           8       0.97      0.95      0.96      1191\n",
      "           9       0.96      0.96      0.96      1613\n",
      "          10       0.91      0.95      0.93      3182\n",
      "\n",
      "    accuracy                           0.94     11516\n",
      "   macro avg       0.96      0.95      0.95     11516\n",
      "weighted avg       0.94      0.94      0.94     11516\n",
      "\n"
     ]
    }
   ],
   "source": [
    "# Print the classification report (you should replace y_train with y_val if you have a validation set)\n",
    "print(classification_report(y_train, y_pred))  "
   ]
  },
  {
   "attachments": {},
   "cell_type": "markdown",
   "metadata": {},
   "source": [
    "# Making Predictions on the Test Set"
   ]
  },
  {
   "cell_type": "code",
   "execution_count": 195,
   "metadata": {},
   "outputs": [
    {
     "name": "stderr",
     "output_type": "stream",
     "text": [
      "/Users/home/Library/Python/3.9/lib/python/site-packages/sklearn/base.py:402: UserWarning: X has feature names, but SimpleImputer was fitted without feature names\n",
      "  warnings.warn(\n"
     ]
    }
   ],
   "source": [
    "# Scale the test data using the same preprocessor\n",
    "X_test_scaled = preprocessor.transform(test_data.drop('Id', axis=1))  # Drop 'Id' for prediction"
   ]
  },
  {
   "cell_type": "code",
   "execution_count": 196,
   "metadata": {},
   "outputs": [],
   "source": [
    "# Make predictions on the test set\n",
    "test_predictions = model.predict(X_test_scaled)"
   ]
  },
  {
   "cell_type": "code",
   "execution_count": 197,
   "metadata": {},
   "outputs": [],
   "source": [
    "# Create a DataFrame with the predictions and 'Id' column\n",
    "submission_df = pd.DataFrame({'Id': test_data['Id'], 'Class': test_predictions})"
   ]
  },
  {
   "cell_type": "code",
   "execution_count": 198,
   "metadata": {},
   "outputs": [],
   "source": [
    "submission_df.to_csv('music_genre_predictions.csv', index=False)# Save the predictions to a CSV file\n"
   ]
  }
 ],
 "metadata": {
  "kernelspec": {
   "display_name": "Python 3",
   "language": "python",
   "name": "python3"
  },
  "language_info": {
   "codemirror_mode": {
    "name": "ipython",
    "version": 3
   },
   "file_extension": ".py",
   "mimetype": "text/x-python",
   "name": "python",
   "nbconvert_exporter": "python",
   "pygments_lexer": "ipython3",
   "version": "3.9.6"
  },
  "orig_nbformat": 4
 },
 "nbformat": 4,
 "nbformat_minor": 2
}
