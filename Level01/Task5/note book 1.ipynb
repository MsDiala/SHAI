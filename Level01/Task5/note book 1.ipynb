{
  "cells": [
    {
      "cell_type": "markdown",
      "metadata": {
        "id": "FlxO9Ht-ciBk"
      },
      "source": [
        "#1- Importing Required Libraries"
      ]
    },
    {
      "cell_type": "code",
      "execution_count": 1,
      "metadata": {
        "id": "qvS_1t3vcf1N"
      },
      "outputs": [],
      "source": [
        "import pandas as pd \n",
        "import numpy as np \n",
        "import matplotlib.pyplot as plt\n",
        "import seaborn as sns \n",
        "import  warnings \n",
        "warnings.filterwarnings(\"ignore\")"
      ]
    },
    {
      "cell_type": "markdown",
      "metadata": {
        "id": "WKijqkOsc0ro"
      },
      "source": [
        "# 2-Importing data and taking a firt glance \n"
      ]
    },
    {
      "cell_type": "code",
      "execution_count": 2,
      "metadata": {
        "id": "e4_RD51pcpLC"
      },
      "outputs": [],
      "source": [
        "df=pd.read_csv(\"kc_house_data.csv\") # ... reading data "
      ]
    },
    {
      "cell_type": "code",
      "execution_count": 3,
      "metadata": {
        "colab": {
          "base_uri": "https://localhost:8080/",
          "height": 299
        },
        "id": "jmeHVYBHdIDZ",
        "outputId": "565b07ed-d5d9-4979-ec42-fc9a8534406c"
      },
      "outputs": [
        {
          "data": {
            "text/html": [
              "\n",
              "  <div id=\"df-b0004367-2130-4794-aac3-f1c6181ee3ad\">\n",
              "    <div class=\"colab-df-container\">\n",
              "      <div>\n",
              "<style scoped>\n",
              "    .dataframe tbody tr th:only-of-type {\n",
              "        vertical-align: middle;\n",
              "    }\n",
              "\n",
              "    .dataframe tbody tr th {\n",
              "        vertical-align: top;\n",
              "    }\n",
              "\n",
              "    .dataframe thead th {\n",
              "        text-align: right;\n",
              "    }\n",
              "</style>\n",
              "<table border=\"1\" class=\"dataframe\">\n",
              "  <thead>\n",
              "    <tr style=\"text-align: right;\">\n",
              "      <th></th>\n",
              "      <th>id</th>\n",
              "      <th>date</th>\n",
              "      <th>price</th>\n",
              "      <th>bedrooms</th>\n",
              "      <th>bathrooms</th>\n",
              "      <th>sqft_living</th>\n",
              "      <th>sqft_lot</th>\n",
              "      <th>floors</th>\n",
              "      <th>waterfront</th>\n",
              "      <th>view</th>\n",
              "      <th>...</th>\n",
              "      <th>grade</th>\n",
              "      <th>sqft_above</th>\n",
              "      <th>sqft_basement</th>\n",
              "      <th>yr_built</th>\n",
              "      <th>yr_renovated</th>\n",
              "      <th>zipcode</th>\n",
              "      <th>lat</th>\n",
              "      <th>long</th>\n",
              "      <th>sqft_living15</th>\n",
              "      <th>sqft_lot15</th>\n",
              "    </tr>\n",
              "  </thead>\n",
              "  <tbody>\n",
              "    <tr>\n",
              "      <th>0</th>\n",
              "      <td>7129300520</td>\n",
              "      <td>20141013T000000</td>\n",
              "      <td>221900.0</td>\n",
              "      <td>3</td>\n",
              "      <td>1.00</td>\n",
              "      <td>1180</td>\n",
              "      <td>5650</td>\n",
              "      <td>1.0</td>\n",
              "      <td>0</td>\n",
              "      <td>0</td>\n",
              "      <td>...</td>\n",
              "      <td>7</td>\n",
              "      <td>1180</td>\n",
              "      <td>0</td>\n",
              "      <td>1955</td>\n",
              "      <td>0</td>\n",
              "      <td>98178</td>\n",
              "      <td>47.5112</td>\n",
              "      <td>-122.257</td>\n",
              "      <td>1340</td>\n",
              "      <td>5650</td>\n",
              "    </tr>\n",
              "    <tr>\n",
              "      <th>1</th>\n",
              "      <td>6414100192</td>\n",
              "      <td>20141209T000000</td>\n",
              "      <td>538000.0</td>\n",
              "      <td>3</td>\n",
              "      <td>2.25</td>\n",
              "      <td>2570</td>\n",
              "      <td>7242</td>\n",
              "      <td>2.0</td>\n",
              "      <td>0</td>\n",
              "      <td>0</td>\n",
              "      <td>...</td>\n",
              "      <td>7</td>\n",
              "      <td>2170</td>\n",
              "      <td>400</td>\n",
              "      <td>1951</td>\n",
              "      <td>1991</td>\n",
              "      <td>98125</td>\n",
              "      <td>47.7210</td>\n",
              "      <td>-122.319</td>\n",
              "      <td>1690</td>\n",
              "      <td>7639</td>\n",
              "    </tr>\n",
              "    <tr>\n",
              "      <th>2</th>\n",
              "      <td>5631500400</td>\n",
              "      <td>20150225T000000</td>\n",
              "      <td>180000.0</td>\n",
              "      <td>2</td>\n",
              "      <td>1.00</td>\n",
              "      <td>770</td>\n",
              "      <td>10000</td>\n",
              "      <td>1.0</td>\n",
              "      <td>0</td>\n",
              "      <td>0</td>\n",
              "      <td>...</td>\n",
              "      <td>6</td>\n",
              "      <td>770</td>\n",
              "      <td>0</td>\n",
              "      <td>1933</td>\n",
              "      <td>0</td>\n",
              "      <td>98028</td>\n",
              "      <td>47.7379</td>\n",
              "      <td>-122.233</td>\n",
              "      <td>2720</td>\n",
              "      <td>8062</td>\n",
              "    </tr>\n",
              "    <tr>\n",
              "      <th>3</th>\n",
              "      <td>2487200875</td>\n",
              "      <td>20141209T000000</td>\n",
              "      <td>604000.0</td>\n",
              "      <td>4</td>\n",
              "      <td>3.00</td>\n",
              "      <td>1960</td>\n",
              "      <td>5000</td>\n",
              "      <td>1.0</td>\n",
              "      <td>0</td>\n",
              "      <td>0</td>\n",
              "      <td>...</td>\n",
              "      <td>7</td>\n",
              "      <td>1050</td>\n",
              "      <td>910</td>\n",
              "      <td>1965</td>\n",
              "      <td>0</td>\n",
              "      <td>98136</td>\n",
              "      <td>47.5208</td>\n",
              "      <td>-122.393</td>\n",
              "      <td>1360</td>\n",
              "      <td>5000</td>\n",
              "    </tr>\n",
              "    <tr>\n",
              "      <th>4</th>\n",
              "      <td>1954400510</td>\n",
              "      <td>20150218T000000</td>\n",
              "      <td>510000.0</td>\n",
              "      <td>3</td>\n",
              "      <td>2.00</td>\n",
              "      <td>1680</td>\n",
              "      <td>8080</td>\n",
              "      <td>1.0</td>\n",
              "      <td>0</td>\n",
              "      <td>0</td>\n",
              "      <td>...</td>\n",
              "      <td>8</td>\n",
              "      <td>1680</td>\n",
              "      <td>0</td>\n",
              "      <td>1987</td>\n",
              "      <td>0</td>\n",
              "      <td>98074</td>\n",
              "      <td>47.6168</td>\n",
              "      <td>-122.045</td>\n",
              "      <td>1800</td>\n",
              "      <td>7503</td>\n",
              "    </tr>\n",
              "  </tbody>\n",
              "</table>\n",
              "<p>5 rows × 21 columns</p>\n",
              "</div>\n",
              "      <button class=\"colab-df-convert\" onclick=\"convertToInteractive('df-b0004367-2130-4794-aac3-f1c6181ee3ad')\"\n",
              "              title=\"Convert this dataframe to an interactive table.\"\n",
              "              style=\"display:none;\">\n",
              "        \n",
              "  <svg xmlns=\"http://www.w3.org/2000/svg\" height=\"24px\"viewBox=\"0 0 24 24\"\n",
              "       width=\"24px\">\n",
              "    <path d=\"M0 0h24v24H0V0z\" fill=\"none\"/>\n",
              "    <path d=\"M18.56 5.44l.94 2.06.94-2.06 2.06-.94-2.06-.94-.94-2.06-.94 2.06-2.06.94zm-11 1L8.5 8.5l.94-2.06 2.06-.94-2.06-.94L8.5 2.5l-.94 2.06-2.06.94zm10 10l.94 2.06.94-2.06 2.06-.94-2.06-.94-.94-2.06-.94 2.06-2.06.94z\"/><path d=\"M17.41 7.96l-1.37-1.37c-.4-.4-.92-.59-1.43-.59-.52 0-1.04.2-1.43.59L10.3 9.45l-7.72 7.72c-.78.78-.78 2.05 0 2.83L4 21.41c.39.39.9.59 1.41.59.51 0 1.02-.2 1.41-.59l7.78-7.78 2.81-2.81c.8-.78.8-2.07 0-2.86zM5.41 20L4 18.59l7.72-7.72 1.47 1.35L5.41 20z\"/>\n",
              "  </svg>\n",
              "      </button>\n",
              "      \n",
              "  <style>\n",
              "    .colab-df-container {\n",
              "      display:flex;\n",
              "      flex-wrap:wrap;\n",
              "      gap: 12px;\n",
              "    }\n",
              "\n",
              "    .colab-df-convert {\n",
              "      background-color: #E8F0FE;\n",
              "      border: none;\n",
              "      border-radius: 50%;\n",
              "      cursor: pointer;\n",
              "      display: none;\n",
              "      fill: #1967D2;\n",
              "      height: 32px;\n",
              "      padding: 0 0 0 0;\n",
              "      width: 32px;\n",
              "    }\n",
              "\n",
              "    .colab-df-convert:hover {\n",
              "      background-color: #E2EBFA;\n",
              "      box-shadow: 0px 1px 2px rgba(60, 64, 67, 0.3), 0px 1px 3px 1px rgba(60, 64, 67, 0.15);\n",
              "      fill: #174EA6;\n",
              "    }\n",
              "\n",
              "    [theme=dark] .colab-df-convert {\n",
              "      background-color: #3B4455;\n",
              "      fill: #D2E3FC;\n",
              "    }\n",
              "\n",
              "    [theme=dark] .colab-df-convert:hover {\n",
              "      background-color: #434B5C;\n",
              "      box-shadow: 0px 1px 3px 1px rgba(0, 0, 0, 0.15);\n",
              "      filter: drop-shadow(0px 1px 2px rgba(0, 0, 0, 0.3));\n",
              "      fill: #FFFFFF;\n",
              "    }\n",
              "  </style>\n",
              "\n",
              "      <script>\n",
              "        const buttonEl =\n",
              "          document.querySelector('#df-b0004367-2130-4794-aac3-f1c6181ee3ad button.colab-df-convert');\n",
              "        buttonEl.style.display =\n",
              "          google.colab.kernel.accessAllowed ? 'block' : 'none';\n",
              "\n",
              "        async function convertToInteractive(key) {\n",
              "          const element = document.querySelector('#df-b0004367-2130-4794-aac3-f1c6181ee3ad');\n",
              "          const dataTable =\n",
              "            await google.colab.kernel.invokeFunction('convertToInteractive',\n",
              "                                                     [key], {});\n",
              "          if (!dataTable) return;\n",
              "\n",
              "          const docLinkHtml = 'Like what you see? Visit the ' +\n",
              "            '<a target=\"_blank\" href=https://colab.research.google.com/notebooks/data_table.ipynb>data table notebook</a>'\n",
              "            + ' to learn more about interactive tables.';\n",
              "          element.innerHTML = '';\n",
              "          dataTable['output_type'] = 'display_data';\n",
              "          await google.colab.output.renderOutput(dataTable, element);\n",
              "          const docLink = document.createElement('div');\n",
              "          docLink.innerHTML = docLinkHtml;\n",
              "          element.appendChild(docLink);\n",
              "        }\n",
              "      </script>\n",
              "    </div>\n",
              "  </div>\n",
              "  "
            ],
            "text/plain": [
              "           id             date     price  bedrooms  bathrooms  sqft_living  \\\n",
              "0  7129300520  20141013T000000  221900.0         3       1.00         1180   \n",
              "1  6414100192  20141209T000000  538000.0         3       2.25         2570   \n",
              "2  5631500400  20150225T000000  180000.0         2       1.00          770   \n",
              "3  2487200875  20141209T000000  604000.0         4       3.00         1960   \n",
              "4  1954400510  20150218T000000  510000.0         3       2.00         1680   \n",
              "\n",
              "   sqft_lot  floors  waterfront  view  ...  grade  sqft_above  sqft_basement  \\\n",
              "0      5650     1.0           0     0  ...      7        1180              0   \n",
              "1      7242     2.0           0     0  ...      7        2170            400   \n",
              "2     10000     1.0           0     0  ...      6         770              0   \n",
              "3      5000     1.0           0     0  ...      7        1050            910   \n",
              "4      8080     1.0           0     0  ...      8        1680              0   \n",
              "\n",
              "   yr_built  yr_renovated  zipcode      lat     long  sqft_living15  \\\n",
              "0      1955             0    98178  47.5112 -122.257           1340   \n",
              "1      1951          1991    98125  47.7210 -122.319           1690   \n",
              "2      1933             0    98028  47.7379 -122.233           2720   \n",
              "3      1965             0    98136  47.5208 -122.393           1360   \n",
              "4      1987             0    98074  47.6168 -122.045           1800   \n",
              "\n",
              "   sqft_lot15  \n",
              "0        5650  \n",
              "1        7639  \n",
              "2        8062  \n",
              "3        5000  \n",
              "4        7503  \n",
              "\n",
              "[5 rows x 21 columns]"
            ]
          },
          "execution_count": 3,
          "metadata": {},
          "output_type": "execute_result"
        }
      ],
      "source": [
        "df.head(5) # ... showing the first five rows from the data \n"
      ]
    },
    {
      "cell_type": "code",
      "execution_count": 4,
      "metadata": {
        "colab": {
          "base_uri": "https://localhost:8080/"
        },
        "id": "wRScGqtRdJf7",
        "outputId": "efe71e48-9fff-44b1-edb1-a7e831f8ed47"
      },
      "outputs": [
        {
          "name": "stdout",
          "output_type": "stream",
          "text": [
            "shape of the data frame : (21613, 21)\n",
            "name of columns :  Index(['id', 'date', 'price', 'bedrooms', 'bathrooms', 'sqft_living',\n",
            "       'sqft_lot', 'floors', 'waterfront', 'view', 'condition', 'grade',\n",
            "       'sqft_above', 'sqft_basement', 'yr_built', 'yr_renovated', 'zipcode',\n",
            "       'lat', 'long', 'sqft_living15', 'sqft_lot15'],\n",
            "      dtype='object')\n"
          ]
        }
      ],
      "source": [
        "print(\"shape of the data frame : {}\".format(df.shape))# ... number of rows and  columns \n",
        "print(\"name of columns :  {}\".format(df.columns)) # ... column names "
      ]
    },
    {
      "cell_type": "code",
      "execution_count": 5,
      "metadata": {
        "colab": {
          "base_uri": "https://localhost:8080/"
        },
        "id": "YmNeoBoGdL-2",
        "outputId": "d036b258-6c87-4d38-bd09-e0cdfe433114"
      },
      "outputs": [
        {
          "name": "stdout",
          "output_type": "stream",
          "text": [
            "<class 'pandas.core.frame.DataFrame'>\n",
            "RangeIndex: 21613 entries, 0 to 21612\n",
            "Data columns (total 21 columns):\n",
            " #   Column         Non-Null Count  Dtype  \n",
            "---  ------         --------------  -----  \n",
            " 0   id             21613 non-null  int64  \n",
            " 1   date           21613 non-null  object \n",
            " 2   price          21613 non-null  float64\n",
            " 3   bedrooms       21613 non-null  int64  \n",
            " 4   bathrooms      21613 non-null  float64\n",
            " 5   sqft_living    21613 non-null  int64  \n",
            " 6   sqft_lot       21613 non-null  int64  \n",
            " 7   floors         21613 non-null  float64\n",
            " 8   waterfront     21613 non-null  int64  \n",
            " 9   view           21613 non-null  int64  \n",
            " 10  condition      21613 non-null  int64  \n",
            " 11  grade          21613 non-null  int64  \n",
            " 12  sqft_above     21613 non-null  int64  \n",
            " 13  sqft_basement  21613 non-null  int64  \n",
            " 14  yr_built       21613 non-null  int64  \n",
            " 15  yr_renovated   21613 non-null  int64  \n",
            " 16  zipcode        21613 non-null  int64  \n",
            " 17  lat            21613 non-null  float64\n",
            " 18  long           21613 non-null  float64\n",
            " 19  sqft_living15  21613 non-null  int64  \n",
            " 20  sqft_lot15     21613 non-null  int64  \n",
            "dtypes: float64(5), int64(15), object(1)\n",
            "memory usage: 3.5+ MB\n"
          ]
        }
      ],
      "source": [
        "df.info() # ..... counting the number of non missing values in each column , col names and datatypes  \n",
        "# result. ..we can see that we dont have missing values and we need to change datatypes for certain columns "
      ]
    },
    {
      "cell_type": "markdown",
      "metadata": {
        "id": "f9-bgD_aSxb3"
      },
      "source": [
        "Describtion of the data \n",
        "\n",
        "1-   id - Unique ID for each home sold\n",
        "2-date - Date of the home sale\n",
        "3-price - Price of each home sold\n",
        "4-bedrooms - Number of bedrooms\n",
        "5-bathrooms - Number of bathrooms, where .5 accounts for a room with a toilet but no shower\n",
        "6-sqft_living - Square footage of the apartments interior living space\n",
        "7-sqft_lot - Square footage of the land space\n",
        "8-floors - Number of floors\n",
        "9-waterfront - A dummy variable for whether the apartment was overlooking the waterfront or not 1’s represent a waterfront property, 0’s represent a non-waterfront property\n",
        "10-view - An index from 0 to 4 of how good the view of the property was, 0 - lowest, 4 - highest\n",
        "11-condition - An index from 1 to 5 on the condition of the apartment, 1 - lowest, 4 - highest\n",
        "12-grade - An index from 1 to 13, where 1-3 falls short of building construction and design, 7 has an average level of construction and design, and 11-13 have a high quality level of construction and design.\n",
        "13-sqft_above - The square footage of the interior housing space that is above ground level\n",
        "14-sqft_basement - The square footage of the interior housing space that is below ground level\n",
        "15-yr_built - The year the house was initially built\n",
        "16-yr_renovated - The year of the house’s last renovation\n",
        "17-zipcode - What zipcode area the house is in\n",
        "18-lat - Lattitude\n",
        "19-long - Longitude\n",
        "20-sqft_living15 - The square footage of interior housing living space for the nearest 15 neighbors\n",
        "21-sqft_lot15 - The square footage of the land lots of the nearest 15 neighbors\n"
      ]
    },
    {
      "cell_type": "markdown",
      "metadata": {
        "id": "kNmSyFKsfFE-"
      },
      "source": [
        "#2- Cleaning and Validate the dataset "
      ]
    },
    {
      "cell_type": "markdown",
      "metadata": {
        "id": "cP-blih5fPcu"
      },
      "source": [
        "1-data types "
      ]
    },
    {
      "cell_type": "code",
      "execution_count": 6,
      "metadata": {
        "id": "uSQHHer8ejd3"
      },
      "outputs": [],
      "source": [
        "df[\"date\"]= pd.to_datetime(df[\"date\"]) # ... cahnging the date column from object to datetime \n",
        "df[[\"condition\",\"grade\",\"view\",\"waterfront\"]]=df[[\"condition\",\"grade\",\"view\",\"waterfront\"]].astype(\"category\")#... they have a finite set of element\n",
        "df[\"zipcode\"]=df[\"zipcode\"].astype(\"object\")"
      ]
    },
    {
      "cell_type": "code",
      "execution_count": 7,
      "metadata": {
        "colab": {
          "base_uri": "https://localhost:8080/"
        },
        "id": "qITLry9vfVxN",
        "outputId": "1ed04f02-bd79-4d6f-80ae-67da54a45d6a"
      },
      "outputs": [
        {
          "data": {
            "text/plain": [
              "id                        int64\n",
              "date             datetime64[ns]\n",
              "price                   float64\n",
              "bedrooms                  int64\n",
              "bathrooms               float64\n",
              "sqft_living               int64\n",
              "sqft_lot                  int64\n",
              "floors                  float64\n",
              "waterfront             category\n",
              "view                   category\n",
              "condition              category\n",
              "grade                  category\n",
              "sqft_above                int64\n",
              "sqft_basement             int64\n",
              "yr_built                  int64\n",
              "yr_renovated              int64\n",
              "zipcode                  object\n",
              "lat                     float64\n",
              "long                    float64\n",
              "sqft_living15             int64\n",
              "sqft_lot15                int64\n",
              "dtype: object"
            ]
          },
          "execution_count": 7,
          "metadata": {},
          "output_type": "execute_result"
        }
      ],
      "source": [
        "df.dtypes # .... check that apply the change "
      ]
    },
    {
      "cell_type": "markdown",
      "metadata": {
        "id": "2wFGrX5eiFUp"
      },
      "source": [
        "2- Checking missing values "
      ]
    },
    {
      "cell_type": "code",
      "execution_count": 8,
      "metadata": {
        "colab": {
          "base_uri": "https://localhost:8080/"
        },
        "id": "K4El-NyqhOwr",
        "outputId": "28ff873f-3bf2-4470-c912-ad5e94176d9a"
      },
      "outputs": [
        {
          "data": {
            "text/plain": [
              "id               0\n",
              "date             0\n",
              "price            0\n",
              "bedrooms         0\n",
              "bathrooms        0\n",
              "sqft_living      0\n",
              "sqft_lot         0\n",
              "floors           0\n",
              "waterfront       0\n",
              "view             0\n",
              "condition        0\n",
              "grade            0\n",
              "sqft_above       0\n",
              "sqft_basement    0\n",
              "yr_built         0\n",
              "yr_renovated     0\n",
              "zipcode          0\n",
              "lat              0\n",
              "long             0\n",
              "sqft_living15    0\n",
              "sqft_lot15       0\n",
              "dtype: int64"
            ]
          },
          "execution_count": 8,
          "metadata": {},
          "output_type": "execute_result"
        }
      ],
      "source": [
        "df.isnull().sum()#.... to check missing values in each column \n",
        "# there is no missing values"
      ]
    },
    {
      "cell_type": "markdown",
      "metadata": {
        "id": "CcApls7bifRz"
      },
      "source": [
        "3-duplicated values "
      ]
    },
    {
      "cell_type": "code",
      "execution_count": 9,
      "metadata": {
        "colab": {
          "base_uri": "https://localhost:8080/",
          "height": 661
        },
        "id": "XTZ54RsHiMsF",
        "outputId": "f77215a1-d9de-4492-e5cf-582df3ea7e55"
      },
      "outputs": [
        {
          "data": {
            "text/html": [
              "\n",
              "  <div id=\"df-59b8c23f-568a-4ab0-9275-e3063ee87665\">\n",
              "    <div class=\"colab-df-container\">\n",
              "      <div>\n",
              "<style scoped>\n",
              "    .dataframe tbody tr th:only-of-type {\n",
              "        vertical-align: middle;\n",
              "    }\n",
              "\n",
              "    .dataframe tbody tr th {\n",
              "        vertical-align: top;\n",
              "    }\n",
              "\n",
              "    .dataframe thead th {\n",
              "        text-align: right;\n",
              "    }\n",
              "</style>\n",
              "<table border=\"1\" class=\"dataframe\">\n",
              "  <thead>\n",
              "    <tr style=\"text-align: right;\">\n",
              "      <th></th>\n",
              "      <th>id</th>\n",
              "      <th>date</th>\n",
              "      <th>price</th>\n",
              "      <th>bedrooms</th>\n",
              "      <th>bathrooms</th>\n",
              "      <th>sqft_living</th>\n",
              "      <th>sqft_lot</th>\n",
              "      <th>floors</th>\n",
              "      <th>waterfront</th>\n",
              "      <th>view</th>\n",
              "      <th>...</th>\n",
              "      <th>grade</th>\n",
              "      <th>sqft_above</th>\n",
              "      <th>sqft_basement</th>\n",
              "      <th>yr_built</th>\n",
              "      <th>yr_renovated</th>\n",
              "      <th>zipcode</th>\n",
              "      <th>lat</th>\n",
              "      <th>long</th>\n",
              "      <th>sqft_living15</th>\n",
              "      <th>sqft_lot15</th>\n",
              "    </tr>\n",
              "  </thead>\n",
              "  <tbody>\n",
              "    <tr>\n",
              "      <th>93</th>\n",
              "      <td>6021501535</td>\n",
              "      <td>2014-07-25</td>\n",
              "      <td>430000.0</td>\n",
              "      <td>3</td>\n",
              "      <td>1.50</td>\n",
              "      <td>1580</td>\n",
              "      <td>5000</td>\n",
              "      <td>1.0</td>\n",
              "      <td>0</td>\n",
              "      <td>0</td>\n",
              "      <td>...</td>\n",
              "      <td>8</td>\n",
              "      <td>1290</td>\n",
              "      <td>290</td>\n",
              "      <td>1939</td>\n",
              "      <td>0</td>\n",
              "      <td>98117</td>\n",
              "      <td>47.6870</td>\n",
              "      <td>-122.386</td>\n",
              "      <td>1570</td>\n",
              "      <td>4500</td>\n",
              "    </tr>\n",
              "    <tr>\n",
              "      <th>94</th>\n",
              "      <td>6021501535</td>\n",
              "      <td>2014-12-23</td>\n",
              "      <td>700000.0</td>\n",
              "      <td>3</td>\n",
              "      <td>1.50</td>\n",
              "      <td>1580</td>\n",
              "      <td>5000</td>\n",
              "      <td>1.0</td>\n",
              "      <td>0</td>\n",
              "      <td>0</td>\n",
              "      <td>...</td>\n",
              "      <td>8</td>\n",
              "      <td>1290</td>\n",
              "      <td>290</td>\n",
              "      <td>1939</td>\n",
              "      <td>0</td>\n",
              "      <td>98117</td>\n",
              "      <td>47.6870</td>\n",
              "      <td>-122.386</td>\n",
              "      <td>1570</td>\n",
              "      <td>4500</td>\n",
              "    </tr>\n",
              "    <tr>\n",
              "      <th>313</th>\n",
              "      <td>4139480200</td>\n",
              "      <td>2014-06-18</td>\n",
              "      <td>1384000.0</td>\n",
              "      <td>4</td>\n",
              "      <td>3.25</td>\n",
              "      <td>4290</td>\n",
              "      <td>12103</td>\n",
              "      <td>1.0</td>\n",
              "      <td>0</td>\n",
              "      <td>3</td>\n",
              "      <td>...</td>\n",
              "      <td>11</td>\n",
              "      <td>2690</td>\n",
              "      <td>1600</td>\n",
              "      <td>1997</td>\n",
              "      <td>0</td>\n",
              "      <td>98006</td>\n",
              "      <td>47.5503</td>\n",
              "      <td>-122.102</td>\n",
              "      <td>3860</td>\n",
              "      <td>11244</td>\n",
              "    </tr>\n",
              "    <tr>\n",
              "      <th>314</th>\n",
              "      <td>4139480200</td>\n",
              "      <td>2014-12-09</td>\n",
              "      <td>1400000.0</td>\n",
              "      <td>4</td>\n",
              "      <td>3.25</td>\n",
              "      <td>4290</td>\n",
              "      <td>12103</td>\n",
              "      <td>1.0</td>\n",
              "      <td>0</td>\n",
              "      <td>3</td>\n",
              "      <td>...</td>\n",
              "      <td>11</td>\n",
              "      <td>2690</td>\n",
              "      <td>1600</td>\n",
              "      <td>1997</td>\n",
              "      <td>0</td>\n",
              "      <td>98006</td>\n",
              "      <td>47.5503</td>\n",
              "      <td>-122.102</td>\n",
              "      <td>3860</td>\n",
              "      <td>11244</td>\n",
              "    </tr>\n",
              "    <tr>\n",
              "      <th>324</th>\n",
              "      <td>7520000520</td>\n",
              "      <td>2014-09-05</td>\n",
              "      <td>232000.0</td>\n",
              "      <td>2</td>\n",
              "      <td>1.00</td>\n",
              "      <td>1240</td>\n",
              "      <td>12092</td>\n",
              "      <td>1.0</td>\n",
              "      <td>0</td>\n",
              "      <td>0</td>\n",
              "      <td>...</td>\n",
              "      <td>6</td>\n",
              "      <td>960</td>\n",
              "      <td>280</td>\n",
              "      <td>1922</td>\n",
              "      <td>1984</td>\n",
              "      <td>98146</td>\n",
              "      <td>47.4957</td>\n",
              "      <td>-122.352</td>\n",
              "      <td>1820</td>\n",
              "      <td>7460</td>\n",
              "    </tr>\n",
              "    <tr>\n",
              "      <th>...</th>\n",
              "      <td>...</td>\n",
              "      <td>...</td>\n",
              "      <td>...</td>\n",
              "      <td>...</td>\n",
              "      <td>...</td>\n",
              "      <td>...</td>\n",
              "      <td>...</td>\n",
              "      <td>...</td>\n",
              "      <td>...</td>\n",
              "      <td>...</td>\n",
              "      <td>...</td>\n",
              "      <td>...</td>\n",
              "      <td>...</td>\n",
              "      <td>...</td>\n",
              "      <td>...</td>\n",
              "      <td>...</td>\n",
              "      <td>...</td>\n",
              "      <td>...</td>\n",
              "      <td>...</td>\n",
              "      <td>...</td>\n",
              "      <td>...</td>\n",
              "    </tr>\n",
              "    <tr>\n",
              "      <th>20670</th>\n",
              "      <td>8564860270</td>\n",
              "      <td>2015-03-30</td>\n",
              "      <td>502000.0</td>\n",
              "      <td>4</td>\n",
              "      <td>2.50</td>\n",
              "      <td>2680</td>\n",
              "      <td>5539</td>\n",
              "      <td>2.0</td>\n",
              "      <td>0</td>\n",
              "      <td>0</td>\n",
              "      <td>...</td>\n",
              "      <td>8</td>\n",
              "      <td>2680</td>\n",
              "      <td>0</td>\n",
              "      <td>2013</td>\n",
              "      <td>0</td>\n",
              "      <td>98045</td>\n",
              "      <td>47.4759</td>\n",
              "      <td>-121.734</td>\n",
              "      <td>2680</td>\n",
              "      <td>5992</td>\n",
              "    </tr>\n",
              "    <tr>\n",
              "      <th>20779</th>\n",
              "      <td>6300000226</td>\n",
              "      <td>2014-06-26</td>\n",
              "      <td>240000.0</td>\n",
              "      <td>4</td>\n",
              "      <td>1.00</td>\n",
              "      <td>1200</td>\n",
              "      <td>2171</td>\n",
              "      <td>1.5</td>\n",
              "      <td>0</td>\n",
              "      <td>0</td>\n",
              "      <td>...</td>\n",
              "      <td>7</td>\n",
              "      <td>1200</td>\n",
              "      <td>0</td>\n",
              "      <td>1933</td>\n",
              "      <td>0</td>\n",
              "      <td>98133</td>\n",
              "      <td>47.7076</td>\n",
              "      <td>-122.342</td>\n",
              "      <td>1130</td>\n",
              "      <td>1598</td>\n",
              "    </tr>\n",
              "    <tr>\n",
              "      <th>20780</th>\n",
              "      <td>6300000226</td>\n",
              "      <td>2015-05-04</td>\n",
              "      <td>380000.0</td>\n",
              "      <td>4</td>\n",
              "      <td>1.00</td>\n",
              "      <td>1200</td>\n",
              "      <td>2171</td>\n",
              "      <td>1.5</td>\n",
              "      <td>0</td>\n",
              "      <td>0</td>\n",
              "      <td>...</td>\n",
              "      <td>7</td>\n",
              "      <td>1200</td>\n",
              "      <td>0</td>\n",
              "      <td>1933</td>\n",
              "      <td>0</td>\n",
              "      <td>98133</td>\n",
              "      <td>47.7076</td>\n",
              "      <td>-122.342</td>\n",
              "      <td>1130</td>\n",
              "      <td>1598</td>\n",
              "    </tr>\n",
              "    <tr>\n",
              "      <th>21580</th>\n",
              "      <td>7853420110</td>\n",
              "      <td>2014-10-03</td>\n",
              "      <td>594866.0</td>\n",
              "      <td>3</td>\n",
              "      <td>3.00</td>\n",
              "      <td>2780</td>\n",
              "      <td>6000</td>\n",
              "      <td>2.0</td>\n",
              "      <td>0</td>\n",
              "      <td>0</td>\n",
              "      <td>...</td>\n",
              "      <td>9</td>\n",
              "      <td>2780</td>\n",
              "      <td>0</td>\n",
              "      <td>2013</td>\n",
              "      <td>0</td>\n",
              "      <td>98065</td>\n",
              "      <td>47.5184</td>\n",
              "      <td>-121.886</td>\n",
              "      <td>2850</td>\n",
              "      <td>6000</td>\n",
              "    </tr>\n",
              "    <tr>\n",
              "      <th>21581</th>\n",
              "      <td>7853420110</td>\n",
              "      <td>2015-05-04</td>\n",
              "      <td>625000.0</td>\n",
              "      <td>3</td>\n",
              "      <td>3.00</td>\n",
              "      <td>2780</td>\n",
              "      <td>6000</td>\n",
              "      <td>2.0</td>\n",
              "      <td>0</td>\n",
              "      <td>0</td>\n",
              "      <td>...</td>\n",
              "      <td>9</td>\n",
              "      <td>2780</td>\n",
              "      <td>0</td>\n",
              "      <td>2013</td>\n",
              "      <td>0</td>\n",
              "      <td>98065</td>\n",
              "      <td>47.5184</td>\n",
              "      <td>-121.886</td>\n",
              "      <td>2850</td>\n",
              "      <td>6000</td>\n",
              "    </tr>\n",
              "  </tbody>\n",
              "</table>\n",
              "<p>353 rows × 21 columns</p>\n",
              "</div>\n",
              "      <button class=\"colab-df-convert\" onclick=\"convertToInteractive('df-59b8c23f-568a-4ab0-9275-e3063ee87665')\"\n",
              "              title=\"Convert this dataframe to an interactive table.\"\n",
              "              style=\"display:none;\">\n",
              "        \n",
              "  <svg xmlns=\"http://www.w3.org/2000/svg\" height=\"24px\"viewBox=\"0 0 24 24\"\n",
              "       width=\"24px\">\n",
              "    <path d=\"M0 0h24v24H0V0z\" fill=\"none\"/>\n",
              "    <path d=\"M18.56 5.44l.94 2.06.94-2.06 2.06-.94-2.06-.94-.94-2.06-.94 2.06-2.06.94zm-11 1L8.5 8.5l.94-2.06 2.06-.94-2.06-.94L8.5 2.5l-.94 2.06-2.06.94zm10 10l.94 2.06.94-2.06 2.06-.94-2.06-.94-.94-2.06-.94 2.06-2.06.94z\"/><path d=\"M17.41 7.96l-1.37-1.37c-.4-.4-.92-.59-1.43-.59-.52 0-1.04.2-1.43.59L10.3 9.45l-7.72 7.72c-.78.78-.78 2.05 0 2.83L4 21.41c.39.39.9.59 1.41.59.51 0 1.02-.2 1.41-.59l7.78-7.78 2.81-2.81c.8-.78.8-2.07 0-2.86zM5.41 20L4 18.59l7.72-7.72 1.47 1.35L5.41 20z\"/>\n",
              "  </svg>\n",
              "      </button>\n",
              "      \n",
              "  <style>\n",
              "    .colab-df-container {\n",
              "      display:flex;\n",
              "      flex-wrap:wrap;\n",
              "      gap: 12px;\n",
              "    }\n",
              "\n",
              "    .colab-df-convert {\n",
              "      background-color: #E8F0FE;\n",
              "      border: none;\n",
              "      border-radius: 50%;\n",
              "      cursor: pointer;\n",
              "      display: none;\n",
              "      fill: #1967D2;\n",
              "      height: 32px;\n",
              "      padding: 0 0 0 0;\n",
              "      width: 32px;\n",
              "    }\n",
              "\n",
              "    .colab-df-convert:hover {\n",
              "      background-color: #E2EBFA;\n",
              "      box-shadow: 0px 1px 2px rgba(60, 64, 67, 0.3), 0px 1px 3px 1px rgba(60, 64, 67, 0.15);\n",
              "      fill: #174EA6;\n",
              "    }\n",
              "\n",
              "    [theme=dark] .colab-df-convert {\n",
              "      background-color: #3B4455;\n",
              "      fill: #D2E3FC;\n",
              "    }\n",
              "\n",
              "    [theme=dark] .colab-df-convert:hover {\n",
              "      background-color: #434B5C;\n",
              "      box-shadow: 0px 1px 3px 1px rgba(0, 0, 0, 0.15);\n",
              "      filter: drop-shadow(0px 1px 2px rgba(0, 0, 0, 0.3));\n",
              "      fill: #FFFFFF;\n",
              "    }\n",
              "  </style>\n",
              "\n",
              "      <script>\n",
              "        const buttonEl =\n",
              "          document.querySelector('#df-59b8c23f-568a-4ab0-9275-e3063ee87665 button.colab-df-convert');\n",
              "        buttonEl.style.display =\n",
              "          google.colab.kernel.accessAllowed ? 'block' : 'none';\n",
              "\n",
              "        async function convertToInteractive(key) {\n",
              "          const element = document.querySelector('#df-59b8c23f-568a-4ab0-9275-e3063ee87665');\n",
              "          const dataTable =\n",
              "            await google.colab.kernel.invokeFunction('convertToInteractive',\n",
              "                                                     [key], {});\n",
              "          if (!dataTable) return;\n",
              "\n",
              "          const docLinkHtml = 'Like what you see? Visit the ' +\n",
              "            '<a target=\"_blank\" href=https://colab.research.google.com/notebooks/data_table.ipynb>data table notebook</a>'\n",
              "            + ' to learn more about interactive tables.';\n",
              "          element.innerHTML = '';\n",
              "          dataTable['output_type'] = 'display_data';\n",
              "          await google.colab.output.renderOutput(dataTable, element);\n",
              "          const docLink = document.createElement('div');\n",
              "          docLink.innerHTML = docLinkHtml;\n",
              "          element.appendChild(docLink);\n",
              "        }\n",
              "      </script>\n",
              "    </div>\n",
              "  </div>\n",
              "  "
            ],
            "text/plain": [
              "               id       date      price  bedrooms  bathrooms  sqft_living  \\\n",
              "93     6021501535 2014-07-25   430000.0         3       1.50         1580   \n",
              "94     6021501535 2014-12-23   700000.0         3       1.50         1580   \n",
              "313    4139480200 2014-06-18  1384000.0         4       3.25         4290   \n",
              "314    4139480200 2014-12-09  1400000.0         4       3.25         4290   \n",
              "324    7520000520 2014-09-05   232000.0         2       1.00         1240   \n",
              "...           ...        ...        ...       ...        ...          ...   \n",
              "20670  8564860270 2015-03-30   502000.0         4       2.50         2680   \n",
              "20779  6300000226 2014-06-26   240000.0         4       1.00         1200   \n",
              "20780  6300000226 2015-05-04   380000.0         4       1.00         1200   \n",
              "21580  7853420110 2014-10-03   594866.0         3       3.00         2780   \n",
              "21581  7853420110 2015-05-04   625000.0         3       3.00         2780   \n",
              "\n",
              "       sqft_lot  floors waterfront view  ... grade sqft_above  sqft_basement  \\\n",
              "93         5000     1.0          0    0  ...     8       1290            290   \n",
              "94         5000     1.0          0    0  ...     8       1290            290   \n",
              "313       12103     1.0          0    3  ...    11       2690           1600   \n",
              "314       12103     1.0          0    3  ...    11       2690           1600   \n",
              "324       12092     1.0          0    0  ...     6        960            280   \n",
              "...         ...     ...        ...  ...  ...   ...        ...            ...   \n",
              "20670      5539     2.0          0    0  ...     8       2680              0   \n",
              "20779      2171     1.5          0    0  ...     7       1200              0   \n",
              "20780      2171     1.5          0    0  ...     7       1200              0   \n",
              "21580      6000     2.0          0    0  ...     9       2780              0   \n",
              "21581      6000     2.0          0    0  ...     9       2780              0   \n",
              "\n",
              "       yr_built  yr_renovated  zipcode      lat     long  sqft_living15  \\\n",
              "93         1939             0    98117  47.6870 -122.386           1570   \n",
              "94         1939             0    98117  47.6870 -122.386           1570   \n",
              "313        1997             0    98006  47.5503 -122.102           3860   \n",
              "314        1997             0    98006  47.5503 -122.102           3860   \n",
              "324        1922          1984    98146  47.4957 -122.352           1820   \n",
              "...         ...           ...      ...      ...      ...            ...   \n",
              "20670      2013             0    98045  47.4759 -121.734           2680   \n",
              "20779      1933             0    98133  47.7076 -122.342           1130   \n",
              "20780      1933             0    98133  47.7076 -122.342           1130   \n",
              "21580      2013             0    98065  47.5184 -121.886           2850   \n",
              "21581      2013             0    98065  47.5184 -121.886           2850   \n",
              "\n",
              "       sqft_lot15  \n",
              "93           4500  \n",
              "94           4500  \n",
              "313         11244  \n",
              "314         11244  \n",
              "324          7460  \n",
              "...           ...  \n",
              "20670        5992  \n",
              "20779        1598  \n",
              "20780        1598  \n",
              "21580        6000  \n",
              "21581        6000  \n",
              "\n",
              "[353 rows x 21 columns]"
            ]
          },
          "execution_count": 9,
          "metadata": {},
          "output_type": "execute_result"
        }
      ],
      "source": [
        "dup =df.duplicated(subset= [\"id\"] ,keep=False)#...creating false /true series to see duplicated values \n",
        "dup_df=df[dup] #.. converting the series to df \n",
        "dup_df#. ..There are duplicated values to be investigated\n"
      ]
    },
    {
      "cell_type": "code",
      "execution_count": 10,
      "metadata": {
        "colab": {
          "base_uri": "https://localhost:8080/"
        },
        "id": "KR0txsiTit4t",
        "outputId": "dbf9df5d-3fad-4df0-c38c-6ddf422f12d2"
      },
      "outputs": [
        {
          "name": "stdout",
          "output_type": "stream",
          "text": [
            "# of houses that are sold twice are (176,) \n"
          ]
        }
      ],
      "source": [
        "# There are some houses that are sold twice in different date or price \n",
        "print( \"# of houses that are sold twice are {} \".format(dup_df.id.unique().shape))\n",
        "dup_df[[\"id\",\"price\", \"date\"]]#...columns changes \n",
        "dup_df_price_id=dup_df[dup_df.duplicated(subset=[\"id\",\"price\"],keep=False)].sort_values(\"price\")\n",
        "#... checking the houses that are sold twice with no price change\n",
        "dup_df_price_id\n",
        "#...checking if we need to delete them \n",
        "df=df.drop_duplicates(subset=[\"id\",\"price\"]) #..deleting the duplicated values (3 rows)\n",
        "#df"
      ]
    },
    {
      "cell_type": "markdown",
      "metadata": {
        "id": "cED9ZtL0pgsM"
      },
      "source": [
        "4- validate the date "
      ]
    },
    {
      "cell_type": "code",
      "execution_count": 11,
      "metadata": {
        "colab": {
          "base_uri": "https://localhost:8080/",
          "height": 143
        },
        "id": "NQI7xrJQmPWC",
        "outputId": "948a1546-d5c2-45d3-a755-ba0675fc5f1b"
      },
      "outputs": [
        {
          "data": {
            "text/html": [
              "\n",
              "  <div id=\"df-a7597458-3f02-40bc-9369-e6e3fbb22e22\">\n",
              "    <div class=\"colab-df-container\">\n",
              "      <div>\n",
              "<style scoped>\n",
              "    .dataframe tbody tr th:only-of-type {\n",
              "        vertical-align: middle;\n",
              "    }\n",
              "\n",
              "    .dataframe tbody tr th {\n",
              "        vertical-align: top;\n",
              "    }\n",
              "\n",
              "    .dataframe thead th {\n",
              "        text-align: right;\n",
              "    }\n",
              "</style>\n",
              "<table border=\"1\" class=\"dataframe\">\n",
              "  <thead>\n",
              "    <tr style=\"text-align: right;\">\n",
              "      <th></th>\n",
              "      <th>id</th>\n",
              "      <th>date</th>\n",
              "      <th>price</th>\n",
              "      <th>bedrooms</th>\n",
              "      <th>bathrooms</th>\n",
              "      <th>sqft_living</th>\n",
              "      <th>sqft_lot</th>\n",
              "      <th>floors</th>\n",
              "      <th>waterfront</th>\n",
              "      <th>view</th>\n",
              "      <th>...</th>\n",
              "      <th>grade</th>\n",
              "      <th>sqft_above</th>\n",
              "      <th>sqft_basement</th>\n",
              "      <th>yr_built</th>\n",
              "      <th>yr_renovated</th>\n",
              "      <th>zipcode</th>\n",
              "      <th>lat</th>\n",
              "      <th>long</th>\n",
              "      <th>sqft_living15</th>\n",
              "      <th>sqft_lot15</th>\n",
              "    </tr>\n",
              "  </thead>\n",
              "  <tbody>\n",
              "  </tbody>\n",
              "</table>\n",
              "<p>0 rows × 21 columns</p>\n",
              "</div>\n",
              "      <button class=\"colab-df-convert\" onclick=\"convertToInteractive('df-a7597458-3f02-40bc-9369-e6e3fbb22e22')\"\n",
              "              title=\"Convert this dataframe to an interactive table.\"\n",
              "              style=\"display:none;\">\n",
              "        \n",
              "  <svg xmlns=\"http://www.w3.org/2000/svg\" height=\"24px\"viewBox=\"0 0 24 24\"\n",
              "       width=\"24px\">\n",
              "    <path d=\"M0 0h24v24H0V0z\" fill=\"none\"/>\n",
              "    <path d=\"M18.56 5.44l.94 2.06.94-2.06 2.06-.94-2.06-.94-.94-2.06-.94 2.06-2.06.94zm-11 1L8.5 8.5l.94-2.06 2.06-.94-2.06-.94L8.5 2.5l-.94 2.06-2.06.94zm10 10l.94 2.06.94-2.06 2.06-.94-2.06-.94-.94-2.06-.94 2.06-2.06.94z\"/><path d=\"M17.41 7.96l-1.37-1.37c-.4-.4-.92-.59-1.43-.59-.52 0-1.04.2-1.43.59L10.3 9.45l-7.72 7.72c-.78.78-.78 2.05 0 2.83L4 21.41c.39.39.9.59 1.41.59.51 0 1.02-.2 1.41-.59l7.78-7.78 2.81-2.81c.8-.78.8-2.07 0-2.86zM5.41 20L4 18.59l7.72-7.72 1.47 1.35L5.41 20z\"/>\n",
              "  </svg>\n",
              "      </button>\n",
              "      \n",
              "  <style>\n",
              "    .colab-df-container {\n",
              "      display:flex;\n",
              "      flex-wrap:wrap;\n",
              "      gap: 12px;\n",
              "    }\n",
              "\n",
              "    .colab-df-convert {\n",
              "      background-color: #E8F0FE;\n",
              "      border: none;\n",
              "      border-radius: 50%;\n",
              "      cursor: pointer;\n",
              "      display: none;\n",
              "      fill: #1967D2;\n",
              "      height: 32px;\n",
              "      padding: 0 0 0 0;\n",
              "      width: 32px;\n",
              "    }\n",
              "\n",
              "    .colab-df-convert:hover {\n",
              "      background-color: #E2EBFA;\n",
              "      box-shadow: 0px 1px 2px rgba(60, 64, 67, 0.3), 0px 1px 3px 1px rgba(60, 64, 67, 0.15);\n",
              "      fill: #174EA6;\n",
              "    }\n",
              "\n",
              "    [theme=dark] .colab-df-convert {\n",
              "      background-color: #3B4455;\n",
              "      fill: #D2E3FC;\n",
              "    }\n",
              "\n",
              "    [theme=dark] .colab-df-convert:hover {\n",
              "      background-color: #434B5C;\n",
              "      box-shadow: 0px 1px 3px 1px rgba(0, 0, 0, 0.15);\n",
              "      filter: drop-shadow(0px 1px 2px rgba(0, 0, 0, 0.3));\n",
              "      fill: #FFFFFF;\n",
              "    }\n",
              "  </style>\n",
              "\n",
              "      <script>\n",
              "        const buttonEl =\n",
              "          document.querySelector('#df-a7597458-3f02-40bc-9369-e6e3fbb22e22 button.colab-df-convert');\n",
              "        buttonEl.style.display =\n",
              "          google.colab.kernel.accessAllowed ? 'block' : 'none';\n",
              "\n",
              "        async function convertToInteractive(key) {\n",
              "          const element = document.querySelector('#df-a7597458-3f02-40bc-9369-e6e3fbb22e22');\n",
              "          const dataTable =\n",
              "            await google.colab.kernel.invokeFunction('convertToInteractive',\n",
              "                                                     [key], {});\n",
              "          if (!dataTable) return;\n",
              "\n",
              "          const docLinkHtml = 'Like what you see? Visit the ' +\n",
              "            '<a target=\"_blank\" href=https://colab.research.google.com/notebooks/data_table.ipynb>data table notebook</a>'\n",
              "            + ' to learn more about interactive tables.';\n",
              "          element.innerHTML = '';\n",
              "          dataTable['output_type'] = 'display_data';\n",
              "          await google.colab.output.renderOutput(dataTable, element);\n",
              "          const docLink = document.createElement('div');\n",
              "          docLink.innerHTML = docLinkHtml;\n",
              "          element.appendChild(docLink);\n",
              "        }\n",
              "      </script>\n",
              "    </div>\n",
              "  </div>\n",
              "  "
            ],
            "text/plain": [
              "Empty DataFrame\n",
              "Columns: [id, date, price, bedrooms, bathrooms, sqft_living, sqft_lot, floors, waterfront, view, condition, grade, sqft_above, sqft_basement, yr_built, yr_renovated, zipcode, lat, long, sqft_living15, sqft_lot15]\n",
              "Index: []\n",
              "\n",
              "[0 rows x 21 columns]"
            ]
          },
          "execution_count": 11,
          "metadata": {},
          "output_type": "execute_result"
        }
      ],
      "source": [
        "# By understanding the data, the sqft_above + sqft_basement = sqft_living \n",
        "# schecking if that applies on all values \n",
        "sum = df[[\"sqft_above\" , \"sqft_basement\"]].sum(axis=1)#...calculating the sum from the two columns\n",
        "mask=sum==df[\"sqft_living\"]#...creating a series that has True if the condition is true \n",
        "df[~mask]#..... Filtering our data Frame to see the False result ( did not meet the condition) by using ~ \n",
        "#There is no row that doesnt meet the condition so we can trust our data more  "
      ]
    },
    {
      "cell_type": "markdown",
      "metadata": {
        "id": "36c3QNSqs_ZU"
      },
      "source": [
        "5- checking inconsistency in categorical/discrete columns by using .value_counts() and bar plot"
      ]
    },
    {
      "cell_type": "markdown",
      "metadata": {
        "id": "ZQYok1cWtoaa"
      },
      "source": [
        "  a-bedrooms"
      ]
    },
    {
      "cell_type": "code",
      "execution_count": 12,
      "metadata": {
        "colab": {
          "base_uri": "https://localhost:8080/",
          "height": 285
        },
        "id": "OyVDtsgHqSC2",
        "outputId": "25d91441-2b4f-4153-a85f-db55c2a65cd0"
      },
      "outputs": [
        {
          "data": {
            "text/plain": [
              "<matplotlib.axes._subplots.AxesSubplot at 0x7f975690cdc0>"
            ]
          },
          "execution_count": 12,
          "metadata": {},
          "output_type": "execute_result"
        },
        {
          "data": {
            "image/png": "[encoded data removed]",
            "text/plain": [
              "<Figure size 432x288 with 1 Axes>"
            ]
          },
          "metadata": {
            "needs_background": "light"
          },
          "output_type": "display_data"
        }
      ],
      "source": [
        "df[\"bedrooms\"].value_counts(sorted).plot(kind=\"bar\")#... we can see that 33 is so far from other dataset \n",
        "# but first lets try to understand if this is possible or not depending on the other factor "
      ]
    },
    {
      "cell_type": "code",
      "execution_count": 13,
      "metadata": {
        "colab": {
          "base_uri": "https://localhost:8080/"
        },
        "id": "JFSLDD-qsyBN",
        "outputId": "87d0706a-5730-4979-df67-02a6007584a5"
      },
      "outputs": [
        {
          "data": {
            "text/plain": [
              "3     9822\n",
              "4     6881\n",
              "2     2760\n",
              "5     1601\n",
              "6      272\n",
              "1      199\n",
              "7       38\n",
              "0       13\n",
              "8       13\n",
              "9        6\n",
              "10       3\n",
              "11       1\n",
              "Name: bedrooms, dtype: int64"
            ]
          },
          "execution_count": 13,
          "metadata": {},
          "output_type": "execute_result"
        }
      ],
      "source": [
        "df_bedroom_33=df[df[\"bedrooms\"]==33]\n",
        "df_bedroom_33\n",
        "# we can see that this column doesnt make any sense so we will delete it \n",
        "df=df.drop(df_bedroom_33.index)#.. drop the index\n",
        "df.bedrooms.value_counts()#..to check if the column has been deleted"
      ]
    },
    {
      "cell_type": "code",
      "execution_count": 14,
      "metadata": {
        "colab": {
          "base_uri": "https://localhost:8080/",
          "height": 776
        },
        "id": "RUDTUg8Uu2um",
        "outputId": "2cc3ceb9-db9a-4830-a736-7ff8cb0c50bc"
      },
      "outputs": [
        {
          "data": {
            "text/html": [
              "\n",
              "  <div id=\"df-38dc43e3-60df-4313-a502-99630593d87f\">\n",
              "    <div class=\"colab-df-container\">\n",
              "      <div>\n",
              "<style scoped>\n",
              "    .dataframe tbody tr th:only-of-type {\n",
              "        vertical-align: middle;\n",
              "    }\n",
              "\n",
              "    .dataframe tbody tr th {\n",
              "        vertical-align: top;\n",
              "    }\n",
              "\n",
              "    .dataframe thead th {\n",
              "        text-align: right;\n",
              "    }\n",
              "</style>\n",
              "<table border=\"1\" class=\"dataframe\">\n",
              "  <thead>\n",
              "    <tr style=\"text-align: right;\">\n",
              "      <th></th>\n",
              "      <th>id</th>\n",
              "      <th>date</th>\n",
              "      <th>price</th>\n",
              "      <th>bedrooms</th>\n",
              "      <th>bathrooms</th>\n",
              "      <th>sqft_living</th>\n",
              "      <th>sqft_lot</th>\n",
              "      <th>floors</th>\n",
              "      <th>waterfront</th>\n",
              "      <th>view</th>\n",
              "      <th>...</th>\n",
              "      <th>grade</th>\n",
              "      <th>sqft_above</th>\n",
              "      <th>sqft_basement</th>\n",
              "      <th>yr_built</th>\n",
              "      <th>yr_renovated</th>\n",
              "      <th>zipcode</th>\n",
              "      <th>lat</th>\n",
              "      <th>long</th>\n",
              "      <th>sqft_living15</th>\n",
              "      <th>sqft_lot15</th>\n",
              "    </tr>\n",
              "  </thead>\n",
              "  <tbody>\n",
              "    <tr>\n",
              "      <th>875</th>\n",
              "      <td>6306400140</td>\n",
              "      <td>2014-06-12</td>\n",
              "      <td>1095000.0</td>\n",
              "      <td>0</td>\n",
              "      <td>0.00</td>\n",
              "      <td>3064</td>\n",
              "      <td>4764</td>\n",
              "      <td>3.5</td>\n",
              "      <td>0</td>\n",
              "      <td>2</td>\n",
              "      <td>...</td>\n",
              "      <td>7</td>\n",
              "      <td>3064</td>\n",
              "      <td>0</td>\n",
              "      <td>1990</td>\n",
              "      <td>0</td>\n",
              "      <td>98102</td>\n",
              "      <td>47.6362</td>\n",
              "      <td>-122.322</td>\n",
              "      <td>2360</td>\n",
              "      <td>4000</td>\n",
              "    </tr>\n",
              "    <tr>\n",
              "      <th>3119</th>\n",
              "      <td>3918400017</td>\n",
              "      <td>2015-02-05</td>\n",
              "      <td>380000.0</td>\n",
              "      <td>0</td>\n",
              "      <td>0.00</td>\n",
              "      <td>1470</td>\n",
              "      <td>979</td>\n",
              "      <td>3.0</td>\n",
              "      <td>0</td>\n",
              "      <td>2</td>\n",
              "      <td>...</td>\n",
              "      <td>8</td>\n",
              "      <td>1470</td>\n",
              "      <td>0</td>\n",
              "      <td>2006</td>\n",
              "      <td>0</td>\n",
              "      <td>98133</td>\n",
              "      <td>47.7145</td>\n",
              "      <td>-122.356</td>\n",
              "      <td>1470</td>\n",
              "      <td>1399</td>\n",
              "    </tr>\n",
              "    <tr>\n",
              "      <th>3467</th>\n",
              "      <td>1453602309</td>\n",
              "      <td>2014-08-05</td>\n",
              "      <td>288000.0</td>\n",
              "      <td>0</td>\n",
              "      <td>1.50</td>\n",
              "      <td>1430</td>\n",
              "      <td>1650</td>\n",
              "      <td>3.0</td>\n",
              "      <td>0</td>\n",
              "      <td>0</td>\n",
              "      <td>...</td>\n",
              "      <td>7</td>\n",
              "      <td>1430</td>\n",
              "      <td>0</td>\n",
              "      <td>1999</td>\n",
              "      <td>0</td>\n",
              "      <td>98125</td>\n",
              "      <td>47.7222</td>\n",
              "      <td>-122.290</td>\n",
              "      <td>1430</td>\n",
              "      <td>1650</td>\n",
              "    </tr>\n",
              "    <tr>\n",
              "      <th>4868</th>\n",
              "      <td>6896300380</td>\n",
              "      <td>2014-10-02</td>\n",
              "      <td>228000.0</td>\n",
              "      <td>0</td>\n",
              "      <td>1.00</td>\n",
              "      <td>390</td>\n",
              "      <td>5900</td>\n",
              "      <td>1.0</td>\n",
              "      <td>0</td>\n",
              "      <td>0</td>\n",
              "      <td>...</td>\n",
              "      <td>4</td>\n",
              "      <td>390</td>\n",
              "      <td>0</td>\n",
              "      <td>1953</td>\n",
              "      <td>0</td>\n",
              "      <td>98118</td>\n",
              "      <td>47.5260</td>\n",
              "      <td>-122.261</td>\n",
              "      <td>2170</td>\n",
              "      <td>6000</td>\n",
              "    </tr>\n",
              "    <tr>\n",
              "      <th>6994</th>\n",
              "      <td>2954400190</td>\n",
              "      <td>2014-06-24</td>\n",
              "      <td>1295650.0</td>\n",
              "      <td>0</td>\n",
              "      <td>0.00</td>\n",
              "      <td>4810</td>\n",
              "      <td>28008</td>\n",
              "      <td>2.0</td>\n",
              "      <td>0</td>\n",
              "      <td>0</td>\n",
              "      <td>...</td>\n",
              "      <td>12</td>\n",
              "      <td>4810</td>\n",
              "      <td>0</td>\n",
              "      <td>1990</td>\n",
              "      <td>0</td>\n",
              "      <td>98053</td>\n",
              "      <td>47.6642</td>\n",
              "      <td>-122.069</td>\n",
              "      <td>4740</td>\n",
              "      <td>35061</td>\n",
              "    </tr>\n",
              "    <tr>\n",
              "      <th>8477</th>\n",
              "      <td>2569500210</td>\n",
              "      <td>2014-11-17</td>\n",
              "      <td>339950.0</td>\n",
              "      <td>0</td>\n",
              "      <td>2.50</td>\n",
              "      <td>2290</td>\n",
              "      <td>8319</td>\n",
              "      <td>2.0</td>\n",
              "      <td>0</td>\n",
              "      <td>0</td>\n",
              "      <td>...</td>\n",
              "      <td>8</td>\n",
              "      <td>2290</td>\n",
              "      <td>0</td>\n",
              "      <td>1985</td>\n",
              "      <td>0</td>\n",
              "      <td>98042</td>\n",
              "      <td>47.3473</td>\n",
              "      <td>-122.151</td>\n",
              "      <td>2500</td>\n",
              "      <td>8751</td>\n",
              "    </tr>\n",
              "    <tr>\n",
              "      <th>8484</th>\n",
              "      <td>2310060040</td>\n",
              "      <td>2014-09-25</td>\n",
              "      <td>240000.0</td>\n",
              "      <td>0</td>\n",
              "      <td>2.50</td>\n",
              "      <td>1810</td>\n",
              "      <td>5669</td>\n",
              "      <td>2.0</td>\n",
              "      <td>0</td>\n",
              "      <td>0</td>\n",
              "      <td>...</td>\n",
              "      <td>7</td>\n",
              "      <td>1810</td>\n",
              "      <td>0</td>\n",
              "      <td>2003</td>\n",
              "      <td>0</td>\n",
              "      <td>98038</td>\n",
              "      <td>47.3493</td>\n",
              "      <td>-122.053</td>\n",
              "      <td>1810</td>\n",
              "      <td>5685</td>\n",
              "    </tr>\n",
              "    <tr>\n",
              "      <th>9773</th>\n",
              "      <td>3374500520</td>\n",
              "      <td>2015-04-29</td>\n",
              "      <td>355000.0</td>\n",
              "      <td>0</td>\n",
              "      <td>0.00</td>\n",
              "      <td>2460</td>\n",
              "      <td>8049</td>\n",
              "      <td>2.0</td>\n",
              "      <td>0</td>\n",
              "      <td>0</td>\n",
              "      <td>...</td>\n",
              "      <td>8</td>\n",
              "      <td>2460</td>\n",
              "      <td>0</td>\n",
              "      <td>1990</td>\n",
              "      <td>0</td>\n",
              "      <td>98031</td>\n",
              "      <td>47.4095</td>\n",
              "      <td>-122.168</td>\n",
              "      <td>2520</td>\n",
              "      <td>8050</td>\n",
              "    </tr>\n",
              "    <tr>\n",
              "      <th>9854</th>\n",
              "      <td>7849202190</td>\n",
              "      <td>2014-12-23</td>\n",
              "      <td>235000.0</td>\n",
              "      <td>0</td>\n",
              "      <td>0.00</td>\n",
              "      <td>1470</td>\n",
              "      <td>4800</td>\n",
              "      <td>2.0</td>\n",
              "      <td>0</td>\n",
              "      <td>0</td>\n",
              "      <td>...</td>\n",
              "      <td>7</td>\n",
              "      <td>1470</td>\n",
              "      <td>0</td>\n",
              "      <td>1996</td>\n",
              "      <td>0</td>\n",
              "      <td>98065</td>\n",
              "      <td>47.5265</td>\n",
              "      <td>-121.828</td>\n",
              "      <td>1060</td>\n",
              "      <td>7200</td>\n",
              "    </tr>\n",
              "    <tr>\n",
              "      <th>12653</th>\n",
              "      <td>7849202299</td>\n",
              "      <td>2015-02-18</td>\n",
              "      <td>320000.0</td>\n",
              "      <td>0</td>\n",
              "      <td>2.50</td>\n",
              "      <td>1490</td>\n",
              "      <td>7111</td>\n",
              "      <td>2.0</td>\n",
              "      <td>0</td>\n",
              "      <td>0</td>\n",
              "      <td>...</td>\n",
              "      <td>7</td>\n",
              "      <td>1490</td>\n",
              "      <td>0</td>\n",
              "      <td>1999</td>\n",
              "      <td>0</td>\n",
              "      <td>98065</td>\n",
              "      <td>47.5261</td>\n",
              "      <td>-121.826</td>\n",
              "      <td>1500</td>\n",
              "      <td>4675</td>\n",
              "    </tr>\n",
              "    <tr>\n",
              "      <th>14423</th>\n",
              "      <td>9543000205</td>\n",
              "      <td>2015-04-13</td>\n",
              "      <td>139950.0</td>\n",
              "      <td>0</td>\n",
              "      <td>0.00</td>\n",
              "      <td>844</td>\n",
              "      <td>4269</td>\n",
              "      <td>1.0</td>\n",
              "      <td>0</td>\n",
              "      <td>0</td>\n",
              "      <td>...</td>\n",
              "      <td>7</td>\n",
              "      <td>844</td>\n",
              "      <td>0</td>\n",
              "      <td>1913</td>\n",
              "      <td>0</td>\n",
              "      <td>98001</td>\n",
              "      <td>47.2781</td>\n",
              "      <td>-122.250</td>\n",
              "      <td>1380</td>\n",
              "      <td>9600</td>\n",
              "    </tr>\n",
              "    <tr>\n",
              "      <th>18379</th>\n",
              "      <td>1222029077</td>\n",
              "      <td>2014-10-29</td>\n",
              "      <td>265000.0</td>\n",
              "      <td>0</td>\n",
              "      <td>0.75</td>\n",
              "      <td>384</td>\n",
              "      <td>213444</td>\n",
              "      <td>1.0</td>\n",
              "      <td>0</td>\n",
              "      <td>0</td>\n",
              "      <td>...</td>\n",
              "      <td>4</td>\n",
              "      <td>384</td>\n",
              "      <td>0</td>\n",
              "      <td>2003</td>\n",
              "      <td>0</td>\n",
              "      <td>98070</td>\n",
              "      <td>47.4177</td>\n",
              "      <td>-122.491</td>\n",
              "      <td>1920</td>\n",
              "      <td>224341</td>\n",
              "    </tr>\n",
              "    <tr>\n",
              "      <th>19452</th>\n",
              "      <td>3980300371</td>\n",
              "      <td>2014-09-26</td>\n",
              "      <td>142000.0</td>\n",
              "      <td>0</td>\n",
              "      <td>0.00</td>\n",
              "      <td>290</td>\n",
              "      <td>20875</td>\n",
              "      <td>1.0</td>\n",
              "      <td>0</td>\n",
              "      <td>0</td>\n",
              "      <td>...</td>\n",
              "      <td>1</td>\n",
              "      <td>290</td>\n",
              "      <td>0</td>\n",
              "      <td>1963</td>\n",
              "      <td>0</td>\n",
              "      <td>98024</td>\n",
              "      <td>47.5308</td>\n",
              "      <td>-121.888</td>\n",
              "      <td>1620</td>\n",
              "      <td>22850</td>\n",
              "    </tr>\n",
              "  </tbody>\n",
              "</table>\n",
              "<p>13 rows × 21 columns</p>\n",
              "</div>\n",
              "      <button class=\"colab-df-convert\" onclick=\"convertToInteractive('df-38dc43e3-60df-4313-a502-99630593d87f')\"\n",
              "              title=\"Convert this dataframe to an interactive table.\"\n",
              "              style=\"display:none;\">\n",
              "        \n",
              "  <svg xmlns=\"http://www.w3.org/2000/svg\" height=\"24px\"viewBox=\"0 0 24 24\"\n",
              "       width=\"24px\">\n",
              "    <path d=\"M0 0h24v24H0V0z\" fill=\"none\"/>\n",
              "    <path d=\"M18.56 5.44l.94 2.06.94-2.06 2.06-.94-2.06-.94-.94-2.06-.94 2.06-2.06.94zm-11 1L8.5 8.5l.94-2.06 2.06-.94-2.06-.94L8.5 2.5l-.94 2.06-2.06.94zm10 10l.94 2.06.94-2.06 2.06-.94-2.06-.94-.94-2.06-.94 2.06-2.06.94z\"/><path d=\"M17.41 7.96l-1.37-1.37c-.4-.4-.92-.59-1.43-.59-.52 0-1.04.2-1.43.59L10.3 9.45l-7.72 7.72c-.78.78-.78 2.05 0 2.83L4 21.41c.39.39.9.59 1.41.59.51 0 1.02-.2 1.41-.59l7.78-7.78 2.81-2.81c.8-.78.8-2.07 0-2.86zM5.41 20L4 18.59l7.72-7.72 1.47 1.35L5.41 20z\"/>\n",
              "  </svg>\n",
              "      </button>\n",
              "      \n",
              "  <style>\n",
              "    .colab-df-container {\n",
              "      display:flex;\n",
              "      flex-wrap:wrap;\n",
              "      gap: 12px;\n",
              "    }\n",
              "\n",
              "    .colab-df-convert {\n",
              "      background-color: #E8F0FE;\n",
              "      border: none;\n",
              "      border-radius: 50%;\n",
              "      cursor: pointer;\n",
              "      display: none;\n",
              "      fill: #1967D2;\n",
              "      height: 32px;\n",
              "      padding: 0 0 0 0;\n",
              "      width: 32px;\n",
              "    }\n",
              "\n",
              "    .colab-df-convert:hover {\n",
              "      background-color: #E2EBFA;\n",
              "      box-shadow: 0px 1px 2px rgba(60, 64, 67, 0.3), 0px 1px 3px 1px rgba(60, 64, 67, 0.15);\n",
              "      fill: #174EA6;\n",
              "    }\n",
              "\n",
              "    [theme=dark] .colab-df-convert {\n",
              "      background-color: #3B4455;\n",
              "      fill: #D2E3FC;\n",
              "    }\n",
              "\n",
              "    [theme=dark] .colab-df-convert:hover {\n",
              "      background-color: #434B5C;\n",
              "      box-shadow: 0px 1px 3px 1px rgba(0, 0, 0, 0.15);\n",
              "      filter: drop-shadow(0px 1px 2px rgba(0, 0, 0, 0.3));\n",
              "      fill: #FFFFFF;\n",
              "    }\n",
              "  </style>\n",
              "\n",
              "      <script>\n",
              "        const buttonEl =\n",
              "          document.querySelector('#df-38dc43e3-60df-4313-a502-99630593d87f button.colab-df-convert');\n",
              "        buttonEl.style.display =\n",
              "          google.colab.kernel.accessAllowed ? 'block' : 'none';\n",
              "\n",
              "        async function convertToInteractive(key) {\n",
              "          const element = document.querySelector('#df-38dc43e3-60df-4313-a502-99630593d87f');\n",
              "          const dataTable =\n",
              "            await google.colab.kernel.invokeFunction('convertToInteractive',\n",
              "                                                     [key], {});\n",
              "          if (!dataTable) return;\n",
              "\n",
              "          const docLinkHtml = 'Like what you see? Visit the ' +\n",
              "            '<a target=\"_blank\" href=https://colab.research.google.com/notebooks/data_table.ipynb>data table notebook</a>'\n",
              "            + ' to learn more about interactive tables.';\n",
              "          element.innerHTML = '';\n",
              "          dataTable['output_type'] = 'display_data';\n",
              "          await google.colab.output.renderOutput(dataTable, element);\n",
              "          const docLink = document.createElement('div');\n",
              "          docLink.innerHTML = docLinkHtml;\n",
              "          element.appendChild(docLink);\n",
              "        }\n",
              "      </script>\n",
              "    </div>\n",
              "  </div>\n",
              "  "
            ],
            "text/plain": [
              "               id       date      price  bedrooms  bathrooms  sqft_living  \\\n",
              "875    6306400140 2014-06-12  1095000.0         0       0.00         3064   \n",
              "3119   3918400017 2015-02-05   380000.0         0       0.00         1470   \n",
              "3467   1453602309 2014-08-05   288000.0         0       1.50         1430   \n",
              "4868   6896300380 2014-10-02   228000.0         0       1.00          390   \n",
              "6994   2954400190 2014-06-24  1295650.0         0       0.00         4810   \n",
              "8477   2569500210 2014-11-17   339950.0         0       2.50         2290   \n",
              "8484   2310060040 2014-09-25   240000.0         0       2.50         1810   \n",
              "9773   3374500520 2015-04-29   355000.0         0       0.00         2460   \n",
              "9854   7849202190 2014-12-23   235000.0         0       0.00         1470   \n",
              "12653  7849202299 2015-02-18   320000.0         0       2.50         1490   \n",
              "14423  9543000205 2015-04-13   139950.0         0       0.00          844   \n",
              "18379  1222029077 2014-10-29   265000.0         0       0.75          384   \n",
              "19452  3980300371 2014-09-26   142000.0         0       0.00          290   \n",
              "\n",
              "       sqft_lot  floors waterfront view  ... grade sqft_above  sqft_basement  \\\n",
              "875        4764     3.5          0    2  ...     7       3064              0   \n",
              "3119        979     3.0          0    2  ...     8       1470              0   \n",
              "3467       1650     3.0          0    0  ...     7       1430              0   \n",
              "4868       5900     1.0          0    0  ...     4        390              0   \n",
              "6994      28008     2.0          0    0  ...    12       4810              0   \n",
              "8477       8319     2.0          0    0  ...     8       2290              0   \n",
              "8484       5669     2.0          0    0  ...     7       1810              0   \n",
              "9773       8049     2.0          0    0  ...     8       2460              0   \n",
              "9854       4800     2.0          0    0  ...     7       1470              0   \n",
              "12653      7111     2.0          0    0  ...     7       1490              0   \n",
              "14423      4269     1.0          0    0  ...     7        844              0   \n",
              "18379    213444     1.0          0    0  ...     4        384              0   \n",
              "19452     20875     1.0          0    0  ...     1        290              0   \n",
              "\n",
              "       yr_built  yr_renovated  zipcode      lat     long  sqft_living15  \\\n",
              "875        1990             0    98102  47.6362 -122.322           2360   \n",
              "3119       2006             0    98133  47.7145 -122.356           1470   \n",
              "3467       1999             0    98125  47.7222 -122.290           1430   \n",
              "4868       1953             0    98118  47.5260 -122.261           2170   \n",
              "6994       1990             0    98053  47.6642 -122.069           4740   \n",
              "8477       1985             0    98042  47.3473 -122.151           2500   \n",
              "8484       2003             0    98038  47.3493 -122.053           1810   \n",
              "9773       1990             0    98031  47.4095 -122.168           2520   \n",
              "9854       1996             0    98065  47.5265 -121.828           1060   \n",
              "12653      1999             0    98065  47.5261 -121.826           1500   \n",
              "14423      1913             0    98001  47.2781 -122.250           1380   \n",
              "18379      2003             0    98070  47.4177 -122.491           1920   \n",
              "19452      1963             0    98024  47.5308 -121.888           1620   \n",
              "\n",
              "       sqft_lot15  \n",
              "875          4000  \n",
              "3119         1399  \n",
              "3467         1650  \n",
              "4868         6000  \n",
              "6994        35061  \n",
              "8477         8751  \n",
              "8484         5685  \n",
              "9773         8050  \n",
              "9854         7200  \n",
              "12653        4675  \n",
              "14423        9600  \n",
              "18379      224341  \n",
              "19452       22850  \n",
              "\n",
              "[13 rows x 21 columns]"
            ]
          },
          "execution_count": 14,
          "metadata": {},
          "output_type": "execute_result"
        }
      ],
      "source": [
        "df_bedroom_0=df[df[\"bedrooms\"]==0]\n",
        "df_bedroom_0# ... we cant have houses with 0 bedrooms"
      ]
    },
    {
      "cell_type": "code",
      "execution_count": 15,
      "metadata": {
        "colab": {
          "base_uri": "https://localhost:8080/",
          "height": 301
        },
        "id": "06bbgpJ1u2a8",
        "outputId": "6cd36882-42e5-4ea0-b997-110f17ca37fc"
      },
      "outputs": [
        {
          "data": {
            "text/plain": [
              "Text(0.5, 1.0, '#of bed rooms')"
            ]
          },
          "execution_count": 15,
          "metadata": {},
          "output_type": "execute_result"
        },
        {
          "data": {
            "image/png": "[encoded data removed]",
            "text/plain": [
              "<Figure size 432x288 with 1 Axes>"
            ]
          },
          "metadata": {
            "needs_background": "light"
          },
          "output_type": "display_data"
        }
      ],
      "source": [
        "(len(df_bedroom_0)/len(df))*100 # ...we see only we have 0.06% so we can delete them \n",
        "df=df.drop(df_bedroom_0.index)\n",
        "df[\"bedrooms\"].value_counts().sort_index().plot(kind=\"bar\")\n",
        "plt.title(\"#of bed rooms\")"
      ]
    },
    {
      "cell_type": "markdown",
      "metadata": {
        "id": "-S_cVIklyYra"
      },
      "source": [
        "b-waterfront and view"
      ]
    },
    {
      "cell_type": "code",
      "execution_count": 16,
      "metadata": {
        "colab": {
          "base_uri": "https://localhost:8080/"
        },
        "id": "V8ZqJEYSu2QO",
        "outputId": "4fe556c2-9a6a-4319-f6e4-c43713bfa7f1"
      },
      "outputs": [
        {
          "data": {
            "text/plain": [
              "0    0.992452\n",
              "1    0.007548\n",
              "Name: waterfront, dtype: float64"
            ]
          },
          "execution_count": 16,
          "metadata": {},
          "output_type": "execute_result"
        }
      ],
      "source": [
        "df[\"waterfront\"].value_counts(normalize=True) \n",
        "# only 0 and 1 ... bun we can conclude that nearly 99% from our houses don't have waterfront "
      ]
    },
    {
      "cell_type": "code",
      "execution_count": 17,
      "metadata": {
        "colab": {
          "base_uri": "https://localhost:8080/"
        },
        "id": "gdJ3nnTNtwyp",
        "outputId": "ef67103b-a258-4061-a277-0bd7f2622cf8"
      },
      "outputs": [
        {
          "data": {
            "text/plain": [
              "0    0.901787\n",
              "2    0.044499\n",
              "3    0.023569\n",
              "1    0.015373\n",
              "4    0.014771\n",
              "Name: view, dtype: float64"
            ]
          },
          "execution_count": 17,
          "metadata": {},
          "output_type": "execute_result"
        }
      ],
      "source": [
        "df[\"view\"].value_counts(normalize=True) \n",
        "# like discribtion .. only wwe have from one to four rank but we can see that nearly 90% has very poor view "
      ]
    },
    {
      "cell_type": "markdown",
      "metadata": {
        "id": "0QLhB9vez_b6"
      },
      "source": [
        "3-condition and grade "
      ]
    },
    {
      "cell_type": "code",
      "execution_count": 18,
      "metadata": {
        "colab": {
          "base_uri": "https://localhost:8080/",
          "height": 285
        },
        "id": "6OfQYgNruYn-",
        "outputId": "35ce01ae-2252-4979-de7b-fe8cb8dc33c2"
      },
      "outputs": [
        {
          "data": {
            "text/plain": [
              "<matplotlib.axes._subplots.AxesSubplot at 0x7f9756390dc0>"
            ]
          },
          "execution_count": 18,
          "metadata": {},
          "output_type": "execute_result"
        },
        {
          "data": {
            "image/png": "[encoded data removed]",
            "text/plain": [
              "<Figure size 432x288 with 1 Axes>"
            ]
          },
          "metadata": {
            "needs_background": "light"
          },
          "output_type": "display_data"
        }
      ],
      "source": [
        "df[\"grade\"].value_counts(normalize=True).sort_index().plot(kind=\"bar\")\n",
        "#we can see that grade is on the rangefor (1-13) .Also , we can see that most building has  an average level of construction and design"
      ]
    },
    {
      "cell_type": "code",
      "execution_count": 19,
      "metadata": {
        "colab": {
          "base_uri": "https://localhost:8080/",
          "height": 279
        },
        "id": "DBAcNPXL0TuO",
        "outputId": "bb1a97c5-503b-496f-c176-4054ae0e8858"
      },
      "outputs": [
        {
          "data": {
            "text/plain": [
              "<matplotlib.axes._subplots.AxesSubplot at 0x7f97562bc0d0>"
            ]
          },
          "execution_count": 19,
          "metadata": {},
          "output_type": "execute_result"
        },
        {
          "data": {
            "image/png": "[encoded data removed]",
            "text/plain": [
              "<Figure size 432x288 with 1 Axes>"
            ]
          },
          "metadata": {
            "needs_background": "light"
          },
          "output_type": "display_data"
        }
      ],
      "source": [
        "df[\"condition\"].value_counts(normalize=True).sort_index().plot(kind=\"bar\")\n",
        "# we can see that grade is on the rangefor (1-5) .Also , nearly more than 90%  houses have  a good/grat condition "
      ]
    },
    {
      "cell_type": "code",
      "execution_count": 20,
      "metadata": {
        "id": "-0OzFVcq1cx1"
      },
      "outputs": [],
      "source": [
        "df_bad_condtion=df[df[\"condition\"].isin([1,2])]#...maybe we use it in our anlaysis later "
      ]
    },
    {
      "cell_type": "markdown",
      "metadata": {
        "id": "rECHbZtvDA44"
      },
      "source": [
        "#3-Primary Data Analysis /feature extraction \n"
      ]
    },
    {
      "cell_type": "code",
      "execution_count": 21,
      "metadata": {
        "colab": {
          "base_uri": "https://localhost:8080/"
        },
        "id": "2ry3LRP6Psqf",
        "outputId": "7398c411-db67-4197-9145-017b2ec22e1f"
      },
      "outputs": [
        {
          "name": "stdout",
          "output_type": "stream",
          "text": [
            "Looking in indexes: https://pypi.org/simple, https://us-python.pkg.dev/colab-wheels/public/simple/\n",
            "Collecting uszipcode\n",
            "  Downloading uszipcode-1.0.1-py2.py3-none-any.whl (35 kB)\n",
            "Collecting haversine>=2.5.0\n",
            "  Downloading haversine-2.7.0-py2.py3-none-any.whl (6.9 kB)\n",
            "Requirement already satisfied: attrs in /usr/local/lib/python3.8/dist-packages (from uszipcode) (22.2.0)\n",
            "Requirement already satisfied: SQLAlchemy>=1.4.0 in /usr/local/lib/python3.8/dist-packages (from uszipcode) (1.4.45)\n",
            "Collecting pathlib-mate\n",
            "  Downloading pathlib_mate-1.2.1-py2.py3-none-any.whl (121 kB)\n",
            "\u001b[2K     \u001b[90m━━━━━━━━━━━━━━━━━━━━━━━━━━━━━━━━━━━━━━━\u001b[0m \u001b[32m121.5/121.5 KB\u001b[0m \u001b[31m7.1 MB/s\u001b[0m eta \u001b[36m0:00:00\u001b[0m\n",
            "\u001b[?25hRequirement already satisfied: atomicwrites in /usr/local/lib/python3.8/dist-packages (from uszipcode) (1.4.1)\n",
            "Requirement already satisfied: requests in /usr/local/lib/python3.8/dist-packages (from uszipcode) (2.25.1)\n",
            "Collecting fuzzywuzzy\n",
            "  Downloading fuzzywuzzy-0.18.0-py2.py3-none-any.whl (18 kB)\n",
            "Collecting sqlalchemy-mate>=1.4.28.3\n",
            "  Downloading sqlalchemy_mate-1.4.28.3-py2.py3-none-any.whl (76 kB)\n",
            "\u001b[2K     \u001b[90m━━━━━━━━━━━━━━━━━━━━━━━━━━━━━━━━━━━━━━━━\u001b[0m \u001b[32m76.4/76.4 KB\u001b[0m \u001b[31m8.3 MB/s\u001b[0m eta \u001b[36m0:00:00\u001b[0m\n",
            "\u001b[?25hRequirement already satisfied: greenlet!=0.4.17 in /usr/local/lib/python3.8/dist-packages (from SQLAlchemy>=1.4.0->uszipcode) (2.0.1)\n",
            "Requirement already satisfied: prettytable in /usr/local/lib/python3.8/dist-packages (from sqlalchemy-mate>=1.4.28.3->uszipcode) (3.5.0)\n",
            "Requirement already satisfied: six in /usr/local/lib/python3.8/dist-packages (from pathlib-mate->uszipcode) (1.15.0)\n",
            "Requirement already satisfied: idna<3,>=2.5 in /usr/local/lib/python3.8/dist-packages (from requests->uszipcode) (2.10)\n",
            "Requirement already satisfied: urllib3<1.27,>=1.21.1 in /usr/local/lib/python3.8/dist-packages (from requests->uszipcode) (1.24.3)\n",
            "Requirement already satisfied: certifi>=2017.4.17 in /usr/local/lib/python3.8/dist-packages (from requests->uszipcode) (2022.12.7)\n",
            "Requirement already satisfied: chardet<5,>=3.0.2 in /usr/local/lib/python3.8/dist-packages (from requests->uszipcode) (4.0.0)\n",
            "Requirement already satisfied: wcwidth in /usr/local/lib/python3.8/dist-packages (from prettytable->sqlalchemy-mate>=1.4.28.3->uszipcode) (0.2.5)\n",
            "Installing collected packages: fuzzywuzzy, pathlib-mate, haversine, sqlalchemy-mate, uszipcode\n",
            "Successfully installed fuzzywuzzy-0.18.0 haversine-2.7.0 pathlib-mate-1.2.1 sqlalchemy-mate-1.4.28.3 uszipcode-1.0.1\n"
          ]
        }
      ],
      "source": [
        "# this graph show that they are related to each other \n",
        "#converting zip code to city name by using : \n",
        "!pip install uszipcode"
      ]
    },
    {
      "cell_type": "code",
      "execution_count": 22,
      "metadata": {
        "colab": {
          "base_uri": "https://localhost:8080/",
          "height": 887
        },
        "id": "O0wKbPYNSBy2",
        "outputId": "0ce5a5a6-7d03-42c2-ed87-d099ed6ae392"
      },
      "outputs": [
        {
          "name": "stdout",
          "output_type": "stream",
          "text": [
            "Download /root/.uszipcode/simple_db.sqlite from https://github.com/MacHu-GWU/uszipcode-project/releases/download/1.0.1.db/simple_db.sqlite ...\n",
            "  1.00 MB downloaded ...\n",
            "  2.00 MB downloaded ...\n",
            "  3.00 MB downloaded ...\n",
            "  4.00 MB downloaded ...\n",
            "  5.00 MB downloaded ...\n",
            "  6.00 MB downloaded ...\n",
            "  7.00 MB downloaded ...\n",
            "  8.00 MB downloaded ...\n",
            "  9.00 MB downloaded ...\n",
            "  10.00 MB downloaded ...\n",
            "  11.00 MB downloaded ...\n",
            "  Complete!\n"
          ]
        },
        {
          "data": {
            "text/html": [
              "\n",
              "  <div id=\"df-d85d383e-cc86-46e2-b0c5-088d8f866a64\">\n",
              "    <div class=\"colab-df-container\">\n",
              "      <div>\n",
              "<style scoped>\n",
              "    .dataframe tbody tr th:only-of-type {\n",
              "        vertical-align: middle;\n",
              "    }\n",
              "\n",
              "    .dataframe tbody tr th {\n",
              "        vertical-align: top;\n",
              "    }\n",
              "\n",
              "    .dataframe thead th {\n",
              "        text-align: right;\n",
              "    }\n",
              "</style>\n",
              "<table border=\"1\" class=\"dataframe\">\n",
              "  <thead>\n",
              "    <tr style=\"text-align: right;\">\n",
              "      <th></th>\n",
              "      <th>id</th>\n",
              "      <th>date</th>\n",
              "      <th>price</th>\n",
              "      <th>bedrooms</th>\n",
              "      <th>bathrooms</th>\n",
              "      <th>sqft_living</th>\n",
              "      <th>sqft_lot</th>\n",
              "      <th>floors</th>\n",
              "      <th>waterfront</th>\n",
              "      <th>view</th>\n",
              "      <th>...</th>\n",
              "      <th>sqft_above</th>\n",
              "      <th>sqft_basement</th>\n",
              "      <th>yr_built</th>\n",
              "      <th>yr_renovated</th>\n",
              "      <th>zipcode</th>\n",
              "      <th>lat</th>\n",
              "      <th>long</th>\n",
              "      <th>sqft_living15</th>\n",
              "      <th>sqft_lot15</th>\n",
              "      <th>city</th>\n",
              "    </tr>\n",
              "  </thead>\n",
              "  <tbody>\n",
              "    <tr>\n",
              "      <th>0</th>\n",
              "      <td>7129300520</td>\n",
              "      <td>2014-10-13</td>\n",
              "      <td>221900.0</td>\n",
              "      <td>3</td>\n",
              "      <td>1.00</td>\n",
              "      <td>1180</td>\n",
              "      <td>5650</td>\n",
              "      <td>1.0</td>\n",
              "      <td>0</td>\n",
              "      <td>0</td>\n",
              "      <td>...</td>\n",
              "      <td>1180</td>\n",
              "      <td>0</td>\n",
              "      <td>1955</td>\n",
              "      <td>0</td>\n",
              "      <td>98178</td>\n",
              "      <td>47.5112</td>\n",
              "      <td>-122.257</td>\n",
              "      <td>1340</td>\n",
              "      <td>5650</td>\n",
              "      <td>Seattle</td>\n",
              "    </tr>\n",
              "    <tr>\n",
              "      <th>1</th>\n",
              "      <td>6414100192</td>\n",
              "      <td>2014-12-09</td>\n",
              "      <td>538000.0</td>\n",
              "      <td>3</td>\n",
              "      <td>2.25</td>\n",
              "      <td>2570</td>\n",
              "      <td>7242</td>\n",
              "      <td>2.0</td>\n",
              "      <td>0</td>\n",
              "      <td>0</td>\n",
              "      <td>...</td>\n",
              "      <td>2170</td>\n",
              "      <td>400</td>\n",
              "      <td>1951</td>\n",
              "      <td>1991</td>\n",
              "      <td>98125</td>\n",
              "      <td>47.7210</td>\n",
              "      <td>-122.319</td>\n",
              "      <td>1690</td>\n",
              "      <td>7639</td>\n",
              "      <td>Seattle</td>\n",
              "    </tr>\n",
              "    <tr>\n",
              "      <th>2</th>\n",
              "      <td>5631500400</td>\n",
              "      <td>2015-02-25</td>\n",
              "      <td>180000.0</td>\n",
              "      <td>2</td>\n",
              "      <td>1.00</td>\n",
              "      <td>770</td>\n",
              "      <td>10000</td>\n",
              "      <td>1.0</td>\n",
              "      <td>0</td>\n",
              "      <td>0</td>\n",
              "      <td>...</td>\n",
              "      <td>770</td>\n",
              "      <td>0</td>\n",
              "      <td>1933</td>\n",
              "      <td>0</td>\n",
              "      <td>98028</td>\n",
              "      <td>47.7379</td>\n",
              "      <td>-122.233</td>\n",
              "      <td>2720</td>\n",
              "      <td>8062</td>\n",
              "      <td>Kenmore</td>\n",
              "    </tr>\n",
              "    <tr>\n",
              "      <th>3</th>\n",
              "      <td>2487200875</td>\n",
              "      <td>2014-12-09</td>\n",
              "      <td>604000.0</td>\n",
              "      <td>4</td>\n",
              "      <td>3.00</td>\n",
              "      <td>1960</td>\n",
              "      <td>5000</td>\n",
              "      <td>1.0</td>\n",
              "      <td>0</td>\n",
              "      <td>0</td>\n",
              "      <td>...</td>\n",
              "      <td>1050</td>\n",
              "      <td>910</td>\n",
              "      <td>1965</td>\n",
              "      <td>0</td>\n",
              "      <td>98136</td>\n",
              "      <td>47.5208</td>\n",
              "      <td>-122.393</td>\n",
              "      <td>1360</td>\n",
              "      <td>5000</td>\n",
              "      <td>Seattle</td>\n",
              "    </tr>\n",
              "    <tr>\n",
              "      <th>4</th>\n",
              "      <td>1954400510</td>\n",
              "      <td>2015-02-18</td>\n",
              "      <td>510000.0</td>\n",
              "      <td>3</td>\n",
              "      <td>2.00</td>\n",
              "      <td>1680</td>\n",
              "      <td>8080</td>\n",
              "      <td>1.0</td>\n",
              "      <td>0</td>\n",
              "      <td>0</td>\n",
              "      <td>...</td>\n",
              "      <td>1680</td>\n",
              "      <td>0</td>\n",
              "      <td>1987</td>\n",
              "      <td>0</td>\n",
              "      <td>98074</td>\n",
              "      <td>47.6168</td>\n",
              "      <td>-122.045</td>\n",
              "      <td>1800</td>\n",
              "      <td>7503</td>\n",
              "      <td>Sammamish</td>\n",
              "    </tr>\n",
              "    <tr>\n",
              "      <th>...</th>\n",
              "      <td>...</td>\n",
              "      <td>...</td>\n",
              "      <td>...</td>\n",
              "      <td>...</td>\n",
              "      <td>...</td>\n",
              "      <td>...</td>\n",
              "      <td>...</td>\n",
              "      <td>...</td>\n",
              "      <td>...</td>\n",
              "      <td>...</td>\n",
              "      <td>...</td>\n",
              "      <td>...</td>\n",
              "      <td>...</td>\n",
              "      <td>...</td>\n",
              "      <td>...</td>\n",
              "      <td>...</td>\n",
              "      <td>...</td>\n",
              "      <td>...</td>\n",
              "      <td>...</td>\n",
              "      <td>...</td>\n",
              "      <td>...</td>\n",
              "    </tr>\n",
              "    <tr>\n",
              "      <th>21608</th>\n",
              "      <td>263000018</td>\n",
              "      <td>2014-05-21</td>\n",
              "      <td>360000.0</td>\n",
              "      <td>3</td>\n",
              "      <td>2.50</td>\n",
              "      <td>1530</td>\n",
              "      <td>1131</td>\n",
              "      <td>3.0</td>\n",
              "      <td>0</td>\n",
              "      <td>0</td>\n",
              "      <td>...</td>\n",
              "      <td>1530</td>\n",
              "      <td>0</td>\n",
              "      <td>2009</td>\n",
              "      <td>0</td>\n",
              "      <td>98103</td>\n",
              "      <td>47.6993</td>\n",
              "      <td>-122.346</td>\n",
              "      <td>1530</td>\n",
              "      <td>1509</td>\n",
              "      <td>Seattle</td>\n",
              "    </tr>\n",
              "    <tr>\n",
              "      <th>21609</th>\n",
              "      <td>6600060120</td>\n",
              "      <td>2015-02-23</td>\n",
              "      <td>400000.0</td>\n",
              "      <td>4</td>\n",
              "      <td>2.50</td>\n",
              "      <td>2310</td>\n",
              "      <td>5813</td>\n",
              "      <td>2.0</td>\n",
              "      <td>0</td>\n",
              "      <td>0</td>\n",
              "      <td>...</td>\n",
              "      <td>2310</td>\n",
              "      <td>0</td>\n",
              "      <td>2014</td>\n",
              "      <td>0</td>\n",
              "      <td>98146</td>\n",
              "      <td>47.5107</td>\n",
              "      <td>-122.362</td>\n",
              "      <td>1830</td>\n",
              "      <td>7200</td>\n",
              "      <td>Seattle</td>\n",
              "    </tr>\n",
              "    <tr>\n",
              "      <th>21610</th>\n",
              "      <td>1523300141</td>\n",
              "      <td>2014-06-23</td>\n",
              "      <td>402101.0</td>\n",
              "      <td>2</td>\n",
              "      <td>0.75</td>\n",
              "      <td>1020</td>\n",
              "      <td>1350</td>\n",
              "      <td>2.0</td>\n",
              "      <td>0</td>\n",
              "      <td>0</td>\n",
              "      <td>...</td>\n",
              "      <td>1020</td>\n",
              "      <td>0</td>\n",
              "      <td>2009</td>\n",
              "      <td>0</td>\n",
              "      <td>98144</td>\n",
              "      <td>47.5944</td>\n",
              "      <td>-122.299</td>\n",
              "      <td>1020</td>\n",
              "      <td>2007</td>\n",
              "      <td>Seattle</td>\n",
              "    </tr>\n",
              "    <tr>\n",
              "      <th>21611</th>\n",
              "      <td>291310100</td>\n",
              "      <td>2015-01-16</td>\n",
              "      <td>400000.0</td>\n",
              "      <td>3</td>\n",
              "      <td>2.50</td>\n",
              "      <td>1600</td>\n",
              "      <td>2388</td>\n",
              "      <td>2.0</td>\n",
              "      <td>0</td>\n",
              "      <td>0</td>\n",
              "      <td>...</td>\n",
              "      <td>1600</td>\n",
              "      <td>0</td>\n",
              "      <td>2004</td>\n",
              "      <td>0</td>\n",
              "      <td>98027</td>\n",
              "      <td>47.5345</td>\n",
              "      <td>-122.069</td>\n",
              "      <td>1410</td>\n",
              "      <td>1287</td>\n",
              "      <td>Issaquah</td>\n",
              "    </tr>\n",
              "    <tr>\n",
              "      <th>21612</th>\n",
              "      <td>1523300157</td>\n",
              "      <td>2014-10-15</td>\n",
              "      <td>325000.0</td>\n",
              "      <td>2</td>\n",
              "      <td>0.75</td>\n",
              "      <td>1020</td>\n",
              "      <td>1076</td>\n",
              "      <td>2.0</td>\n",
              "      <td>0</td>\n",
              "      <td>0</td>\n",
              "      <td>...</td>\n",
              "      <td>1020</td>\n",
              "      <td>0</td>\n",
              "      <td>2008</td>\n",
              "      <td>0</td>\n",
              "      <td>98144</td>\n",
              "      <td>47.5941</td>\n",
              "      <td>-122.299</td>\n",
              "      <td>1020</td>\n",
              "      <td>1357</td>\n",
              "      <td>Seattle</td>\n",
              "    </tr>\n",
              "  </tbody>\n",
              "</table>\n",
              "<p>21596 rows × 22 columns</p>\n",
              "</div>\n",
              "      <button class=\"colab-df-convert\" onclick=\"convertToInteractive('df-d85d383e-cc86-46e2-b0c5-088d8f866a64')\"\n",
              "              title=\"Convert this dataframe to an interactive table.\"\n",
              "              style=\"display:none;\">\n",
              "        \n",
              "  <svg xmlns=\"http://www.w3.org/2000/svg\" height=\"24px\"viewBox=\"0 0 24 24\"\n",
              "       width=\"24px\">\n",
              "    <path d=\"M0 0h24v24H0V0z\" fill=\"none\"/>\n",
              "    <path d=\"M18.56 5.44l.94 2.06.94-2.06 2.06-.94-2.06-.94-.94-2.06-.94 2.06-2.06.94zm-11 1L8.5 8.5l.94-2.06 2.06-.94-2.06-.94L8.5 2.5l-.94 2.06-2.06.94zm10 10l.94 2.06.94-2.06 2.06-.94-2.06-.94-.94-2.06-.94 2.06-2.06.94z\"/><path d=\"M17.41 7.96l-1.37-1.37c-.4-.4-.92-.59-1.43-.59-.52 0-1.04.2-1.43.59L10.3 9.45l-7.72 7.72c-.78.78-.78 2.05 0 2.83L4 21.41c.39.39.9.59 1.41.59.51 0 1.02-.2 1.41-.59l7.78-7.78 2.81-2.81c.8-.78.8-2.07 0-2.86zM5.41 20L4 18.59l7.72-7.72 1.47 1.35L5.41 20z\"/>\n",
              "  </svg>\n",
              "      </button>\n",
              "      \n",
              "  <style>\n",
              "    .colab-df-container {\n",
              "      display:flex;\n",
              "      flex-wrap:wrap;\n",
              "      gap: 12px;\n",
              "    }\n",
              "\n",
              "    .colab-df-convert {\n",
              "      background-color: #E8F0FE;\n",
              "      border: none;\n",
              "      border-radius: 50%;\n",
              "      cursor: pointer;\n",
              "      display: none;\n",
              "      fill: #1967D2;\n",
              "      height: 32px;\n",
              "      padding: 0 0 0 0;\n",
              "      width: 32px;\n",
              "    }\n",
              "\n",
              "    .colab-df-convert:hover {\n",
              "      background-color: #E2EBFA;\n",
              "      box-shadow: 0px 1px 2px rgba(60, 64, 67, 0.3), 0px 1px 3px 1px rgba(60, 64, 67, 0.15);\n",
              "      fill: #174EA6;\n",
              "    }\n",
              "\n",
              "    [theme=dark] .colab-df-convert {\n",
              "      background-color: #3B4455;\n",
              "      fill: #D2E3FC;\n",
              "    }\n",
              "\n",
              "    [theme=dark] .colab-df-convert:hover {\n",
              "      background-color: #434B5C;\n",
              "      box-shadow: 0px 1px 3px 1px rgba(0, 0, 0, 0.15);\n",
              "      filter: drop-shadow(0px 1px 2px rgba(0, 0, 0, 0.3));\n",
              "      fill: #FFFFFF;\n",
              "    }\n",
              "  </style>\n",
              "\n",
              "      <script>\n",
              "        const buttonEl =\n",
              "          document.querySelector('#df-d85d383e-cc86-46e2-b0c5-088d8f866a64 button.colab-df-convert');\n",
              "        buttonEl.style.display =\n",
              "          google.colab.kernel.accessAllowed ? 'block' : 'none';\n",
              "\n",
              "        async function convertToInteractive(key) {\n",
              "          const element = document.querySelector('#df-d85d383e-cc86-46e2-b0c5-088d8f866a64');\n",
              "          const dataTable =\n",
              "            await google.colab.kernel.invokeFunction('convertToInteractive',\n",
              "                                                     [key], {});\n",
              "          if (!dataTable) return;\n",
              "\n",
              "          const docLinkHtml = 'Like what you see? Visit the ' +\n",
              "            '<a target=\"_blank\" href=https://colab.research.google.com/notebooks/data_table.ipynb>data table notebook</a>'\n",
              "            + ' to learn more about interactive tables.';\n",
              "          element.innerHTML = '';\n",
              "          dataTable['output_type'] = 'display_data';\n",
              "          await google.colab.output.renderOutput(dataTable, element);\n",
              "          const docLink = document.createElement('div');\n",
              "          docLink.innerHTML = docLinkHtml;\n",
              "          element.appendChild(docLink);\n",
              "        }\n",
              "      </script>\n",
              "    </div>\n",
              "  </div>\n",
              "  "
            ],
            "text/plain": [
              "               id       date     price  bedrooms  bathrooms  sqft_living  \\\n",
              "0      7129300520 2014-10-13  221900.0         3       1.00         1180   \n",
              "1      6414100192 2014-12-09  538000.0         3       2.25         2570   \n",
              "2      5631500400 2015-02-25  180000.0         2       1.00          770   \n",
              "3      2487200875 2014-12-09  604000.0         4       3.00         1960   \n",
              "4      1954400510 2015-02-18  510000.0         3       2.00         1680   \n",
              "...           ...        ...       ...       ...        ...          ...   \n",
              "21608   263000018 2014-05-21  360000.0         3       2.50         1530   \n",
              "21609  6600060120 2015-02-23  400000.0         4       2.50         2310   \n",
              "21610  1523300141 2014-06-23  402101.0         2       0.75         1020   \n",
              "21611   291310100 2015-01-16  400000.0         3       2.50         1600   \n",
              "21612  1523300157 2014-10-15  325000.0         2       0.75         1020   \n",
              "\n",
              "       sqft_lot  floors waterfront view  ... sqft_above sqft_basement  \\\n",
              "0          5650     1.0          0    0  ...       1180             0   \n",
              "1          7242     2.0          0    0  ...       2170           400   \n",
              "2         10000     1.0          0    0  ...        770             0   \n",
              "3          5000     1.0          0    0  ...       1050           910   \n",
              "4          8080     1.0          0    0  ...       1680             0   \n",
              "...         ...     ...        ...  ...  ...        ...           ...   \n",
              "21608      1131     3.0          0    0  ...       1530             0   \n",
              "21609      5813     2.0          0    0  ...       2310             0   \n",
              "21610      1350     2.0          0    0  ...       1020             0   \n",
              "21611      2388     2.0          0    0  ...       1600             0   \n",
              "21612      1076     2.0          0    0  ...       1020             0   \n",
              "\n",
              "       yr_built  yr_renovated  zipcode      lat     long  sqft_living15  \\\n",
              "0          1955             0    98178  47.5112 -122.257           1340   \n",
              "1          1951          1991    98125  47.7210 -122.319           1690   \n",
              "2          1933             0    98028  47.7379 -122.233           2720   \n",
              "3          1965             0    98136  47.5208 -122.393           1360   \n",
              "4          1987             0    98074  47.6168 -122.045           1800   \n",
              "...         ...           ...      ...      ...      ...            ...   \n",
              "21608      2009             0    98103  47.6993 -122.346           1530   \n",
              "21609      2014             0    98146  47.5107 -122.362           1830   \n",
              "21610      2009             0    98144  47.5944 -122.299           1020   \n",
              "21611      2004             0    98027  47.5345 -122.069           1410   \n",
              "21612      2008             0    98144  47.5941 -122.299           1020   \n",
              "\n",
              "       sqft_lot15       city  \n",
              "0            5650    Seattle  \n",
              "1            7639    Seattle  \n",
              "2            8062    Kenmore  \n",
              "3            5000    Seattle  \n",
              "4            7503  Sammamish  \n",
              "...           ...        ...  \n",
              "21608        1509    Seattle  \n",
              "21609        7200    Seattle  \n",
              "21610        2007    Seattle  \n",
              "21611        1287   Issaquah  \n",
              "21612        1357    Seattle  \n",
              "\n",
              "[21596 rows x 22 columns]"
            ]
          },
          "execution_count": 22,
          "metadata": {},
          "output_type": "execute_result"
        }
      ],
      "source": [
        "#converting zip code to city name \n",
        "from uszipcode import SearchEngine, SimpleZipcode\n",
        "search = SearchEngine()\n",
        "def zco(x):\n",
        "    city = search.by_zipcode(x).major_city\n",
        "    return city if city else 'None'\n",
        "\n",
        "df['city'] = df['zipcode'].apply(zco)\n",
        "df"
      ]
    },
    {
      "cell_type": "code",
      "execution_count": 23,
      "metadata": {
        "id": "8dUXktr7SGXT"
      },
      "outputs": [],
      "source": [
        "#(is renovated) column is more useful than (yr_renovated) \n",
        "df[\"is_renovated\"] =0 \n",
        "df.loc[df['yr_renovated'].astype(\"int\") > 0, 'is_renovated'] = 1\n"
      ]
    },
    {
      "cell_type": "code",
      "execution_count": 24,
      "metadata": {
        "id": "AQDoVHLSF1UV"
      },
      "outputs": [],
      "source": [
        "df[\"year\"]=df[\"date\"].dt.year #..changing the data type of year column to simplify the analysis\n",
        "df[\"month\"]=df[\"date\"].dt.month#..changing the data type of month column to simplify the analysis\n",
        "#df.loc[df[\"yr_renovated\"]>0 , \"yr_built\"]=df[\"yr_renovated\"]#. .change year built to year renovated \n",
        "#df[\"year_until_purchase\"]=df[\"year\"]-df[\"yr_built\"]#. ... create our target variable which indicates how long the house from building  until its purschase \n",
        "#d=df.to_csv(\"C:\\\\Users\\\\LENOVO\\\\Desktop\\\\New folder\")"
      ]
    },
    {
      "cell_type": "markdown",
      "metadata": {
        "id": "aZjS9nJELUVk"
      },
      "source": [
        "#feature selection"
      ]
    },
    {
      "cell_type": "code",
      "execution_count": 25,
      "metadata": {
        "id": "LKcCTUN3Lo5-"
      },
      "outputs": [],
      "source": [
        "# based on understanding our data and feature engineering, dropping non-sense columns\n",
        "df[[\"yr_built\",\"is_renovated\" ,\"year\" ,\"month\"]]=df[[\"yr_built\",\"is_renovated\" ,\"year\" ,\"month\"]].astype(\"category\")\n",
        "#yr_untill_purchase= yr_purshase(2014/2015) - yr_build 1980\n",
        "df_before_dummies=df\n"
      ]
    },
    {
      "cell_type": "code",
      "execution_count": 26,
      "metadata": {
        "id": "bebKtbLDPx5E"
      },
      "outputs": [],
      "source": [
        "#one hot encoder for backward elimination and modeling \n",
        "df_city=pd.get_dummies(df[\"city\"],drop_first=True)\n",
        "df_dummies=pd.concat([df,df_city] ,axis=1)\n",
        "df_dummies=df_dummies.drop(\"city\",1)\n",
        "df_lat=df_dummies\n",
        "df_dummies=df_dummies.drop([\"id\",\"zipcode\",\"lat\",\"long\",\"yr_renovated\",\"date\"],axis=1) \n"
      ]
    },
    {
      "cell_type": "markdown",
      "metadata": {
        "id": "-0SiFzBMTqJd"
      },
      "source": [
        "#BACK WORD ELIMINATION 1"
      ]
    },
    {
      "cell_type": "code",
      "execution_count": 27,
      "metadata": {
        "colab": {
          "base_uri": "https://localhost:8080/"
        },
        "id": "6UPAQld5QB_j",
        "outputId": "a753e927-b754-40c9-eee0-b43b18cd5e35"
      },
      "outputs": [
        {
          "data": {
            "text/plain": [
              "(21596, 40)"
            ]
          },
          "execution_count": 27,
          "metadata": {},
          "output_type": "execute_result"
        }
      ],
      "source": [
        "# x ,y \n",
        "x=df_dummies.drop(\"price\" ,axis=1)\n",
        "y=df_dummies[\"price\"]\n",
        "x=x.values # converted to 2d array\n",
        "y=y.values # converted to 1d array \n",
        "y.shape\n",
        "x.shape"
      ]
    },
    {
      "cell_type": "code",
      "execution_count": 28,
      "metadata": {
        "colab": {
          "base_uri": "https://localhost:8080/"
        },
        "id": "pJX1hyFiVLmA",
        "outputId": "25bcaa4e-7a41-4300-e20f-5294818e202f"
      },
      "outputs": [
        {
          "data": {
            "text/plain": [
              "(21596, 41)"
            ]
          },
          "execution_count": 28,
          "metadata": {},
          "output_type": "execute_result"
        }
      ],
      "source": [
        "x=np.append(arr=np.ones((21596,1)).astype(\"int\"),values=x,axis=1) # adding one to the first column of the array \n",
        "# b0 in  statsmodels is not defined \n",
        "x.shape"
      ]
    },
    {
      "cell_type": "code",
      "execution_count": 29,
      "metadata": {
        "colab": {
          "base_uri": "https://localhost:8080/"
        },
        "id": "DrwVjWSrWcbH",
        "outputId": "e9f5bd21-3952-4660-cae0-9185b090c640"
      },
      "outputs": [
        {
          "name": "stdout",
          "output_type": "stream",
          "text": [
            "                            OLS Regression Results                            \n",
            "==============================================================================\n",
            "Dep. Variable:                      y   R-squared:                       0.739\n",
            "Model:                            OLS   Adj. R-squared:                  0.739\n",
            "Method:                 Least Squares   F-statistic:                     1566.\n",
            "Date:                Sun, 08 Jan 2023   Prob (F-statistic):               0.00\n",
            "Time:                        08:09:55   Log-Likelihood:            -2.9285e+05\n",
            "No. Observations:               21596   AIC:                         5.858e+05\n",
            "Df Residuals:                   21556   BIC:                         5.861e+05\n",
            "Df Model:                          39                                         \n",
            "Covariance Type:            nonrobust                                         \n",
            "==============================================================================\n",
            "                 coef    std err          t      P>|t|      [0.025      0.975]\n",
            "------------------------------------------------------------------------------\n",
            "const       -7.39e+07   8.88e+06     -8.327      0.000   -9.13e+07   -5.65e+07\n",
            "x1         -3.912e+04   1856.504    -21.069      0.000   -4.28e+04   -3.55e+04\n",
            "x2          4.095e+04   3056.904     13.394      0.000     3.5e+04    4.69e+04\n",
            "x3           107.4972      2.138     50.286      0.000     103.307     111.687\n",
            "x4             0.1702      0.045      3.795      0.000       0.082       0.258\n",
            "x5          1.976e+04   3461.294      5.709      0.000     1.3e+04    2.65e+04\n",
            "x6          5.917e+05   1.64e+04     36.061      0.000     5.6e+05    6.24e+05\n",
            "x7          4.191e+04   2012.848     20.819      0.000     3.8e+04    4.59e+04\n",
            "x8          2.516e+04   2226.523     11.299      0.000    2.08e+04    2.95e+04\n",
            "x9          9.005e+04   2044.526     44.045      0.000     8.6e+04    9.41e+04\n",
            "x10           69.9508      2.124     32.935      0.000      65.788      74.114\n",
            "x11           37.5464      2.496     15.043      0.000      32.654      42.439\n",
            "x12        -2327.1545     70.325    -33.091      0.000   -2464.997   -2189.312\n",
            "x13           17.2882      3.311      5.221      0.000      10.798      23.778\n",
            "x14           -0.3070      0.070     -4.374      0.000      -0.445      -0.169\n",
            "x15         2.428e+04   6832.719      3.554      0.000    1.09e+04    3.77e+04\n",
            "x16         3.857e+04   4403.175      8.759      0.000    2.99e+04    4.72e+04\n",
            "x17         1589.6726    659.652      2.410      0.016     296.705    2882.640\n",
            "x18         3.508e+05   8241.413     42.569      0.000    3.35e+05    3.67e+05\n",
            "x19         8.368e+04   1.99e+04      4.215      0.000    4.48e+04    1.23e+05\n",
            "x20         1.132e+05   1.49e+04      7.613      0.000     8.4e+04    1.42e+05\n",
            "x21         1.263e+05   1.83e+04      6.909      0.000    9.04e+04    1.62e+05\n",
            "x22         1.005e+05    1.5e+04      6.679      0.000     7.1e+04     1.3e+05\n",
            "x23          1.12e+04    1.4e+04      0.802      0.422   -1.62e+04    3.86e+04\n",
            "x24         1.663e+05   2.21e+04      7.507      0.000    1.23e+05     2.1e+05\n",
            "x25        -2.784e+04   9203.381     -3.025      0.002   -4.59e+04   -9796.360\n",
            "x26         1.621e+05   9426.732     17.191      0.000    1.44e+05    1.81e+05\n",
            "x27         1.124e+05   1.28e+04      8.768      0.000    8.73e+04    1.38e+05\n",
            "x28         1.369e+04   8260.075      1.657      0.097   -2499.973    2.99e+04\n",
            "x29         2.641e+05   8704.102     30.337      0.000    2.47e+05    2.81e+05\n",
            "x30         3.957e+04   9984.462      3.963      0.000       2e+04    5.91e+04\n",
            "x31         1.262e+06   2.75e+04     45.850      0.000    1.21e+06    1.32e+06\n",
            "x32         4.628e+05   1.31e+04     35.259      0.000    4.37e+05    4.89e+05\n",
            "x33         1.082e+05   1.41e+04      7.655      0.000    8.05e+04    1.36e+05\n",
            "x34         2.043e+05   8755.228     23.333      0.000    1.87e+05    2.21e+05\n",
            "x35          6.47e+04   7817.528      8.276      0.000    4.94e+04       8e+04\n",
            "x36         1.416e+05   9367.895     15.115      0.000    1.23e+05     1.6e+05\n",
            "x37         2.057e+05   6896.829     29.818      0.000    1.92e+05    2.19e+05\n",
            "x38         8.474e+04   1.25e+04      6.762      0.000    6.02e+04    1.09e+05\n",
            "x39         9600.5026    1.9e+04      0.505      0.614   -2.77e+04    4.69e+04\n",
            "x40         1.195e+05   1.08e+04     11.050      0.000    9.83e+04    1.41e+05\n",
            "==============================================================================\n",
            "Omnibus:                    18258.476   Durbin-Watson:                   1.997\n",
            "Prob(Omnibus):                  0.000   Jarque-Bera (JB):          2089456.228\n",
            "Skew:                           3.487   Prob(JB):                         0.00\n",
            "Kurtosis:                      50.680   Cond. No.                     1.13e+16\n",
            "==============================================================================\n",
            "\n",
            "Notes:\n",
            "[1] Standard Errors assume that the covariance matrix of the errors is correctly specified.\n",
            "[2] The smallest eigenvalue is 4.34e-19. This might indicate that there are\n",
            "strong multicollinearity problems or that the design matrix is singular.\n"
          ]
        }
      ],
      "source": [
        "#significance level is 0.05 \n",
        "#backword elimination for feature selection \n",
        "import  statsmodels.api as sm \n",
        "x_opt=x[: , [0,1,2,3,4,5,6,7,8,9,10,11,12,13,14,15,16,17,18,19,20,21,22,23,24,25,26,27,28,29,30,31,32,33,34,35,36,37,38,39,40]]\n",
        "\n",
        "ols_reg =sm.OLS(endog=y ,exog=x_opt).fit()\n",
        "print(ols_reg.summary())\n"
      ]
    },
    {
      "cell_type": "code",
      "execution_count": 30,
      "metadata": {
        "colab": {
          "base_uri": "https://localhost:8080/"
        },
        "id": "Ptvk5MQNXYmU",
        "outputId": "6d2e238a-5f8a-4215-d9f5-f08afe253dbb"
      },
      "outputs": [
        {
          "name": "stdout",
          "output_type": "stream",
          "text": [
            "                            OLS Regression Results                            \n",
            "==============================================================================\n",
            "Dep. Variable:                      y   R-squared:                       0.739\n",
            "Model:                            OLS   Adj. R-squared:                  0.739\n",
            "Method:                 Least Squares   F-statistic:                     1608.\n",
            "Date:                Sun, 08 Jan 2023   Prob (F-statistic):               0.00\n",
            "Time:                        08:09:55   Log-Likelihood:            -2.9285e+05\n",
            "No. Observations:               21596   AIC:                         5.858e+05\n",
            "Df Residuals:                   21557   BIC:                         5.861e+05\n",
            "Df Model:                          38                                         \n",
            "Covariance Type:            nonrobust                                         \n",
            "==============================================================================\n",
            "                 coef    std err          t      P>|t|      [0.025      0.975]\n",
            "------------------------------------------------------------------------------\n",
            "const      -7.385e+07   8.87e+06     -8.321      0.000   -9.12e+07   -5.65e+07\n",
            "x1         -3.914e+04   1855.549    -21.096      0.000   -4.28e+04   -3.55e+04\n",
            "x2          4.096e+04   3056.765     13.399      0.000     3.5e+04    4.69e+04\n",
            "x3           107.4871      2.138     50.284      0.000     103.297     111.677\n",
            "x4             0.1708      0.045      3.810      0.000       0.083       0.259\n",
            "x5          1.981e+04   3460.197      5.724      0.000     1.3e+04    2.66e+04\n",
            "x6          5.928e+05   1.63e+04     36.478      0.000    5.61e+05    6.25e+05\n",
            "x7          4.194e+04   2011.955     20.843      0.000     3.8e+04    4.59e+04\n",
            "x8          2.518e+04   2226.167     11.310      0.000    2.08e+04    2.95e+04\n",
            "x9          9.005e+04   2044.488     44.046      0.000     8.6e+04    9.41e+04\n",
            "x10           69.9343      2.124     32.932      0.000      65.772      74.097\n",
            "x11           37.5527      2.496     15.046      0.000      32.661      42.445\n",
            "x12        -2327.7890     70.313    -33.106      0.000   -2465.607   -2189.971\n",
            "x13           17.2433      3.310      5.210      0.000      10.756      23.731\n",
            "x14           -0.3030      0.070     -4.345      0.000      -0.440      -0.166\n",
            "x15         2.428e+04   6832.601      3.554      0.000    1.09e+04    3.77e+04\n",
            "x16         3.854e+04   4402.786      8.754      0.000    2.99e+04    4.72e+04\n",
            "x17         1588.5048    659.637      2.408      0.016     295.567    2881.442\n",
            "x18         3.499e+05   8009.292     43.681      0.000    3.34e+05    3.66e+05\n",
            "x19         8.252e+04   1.97e+04      4.185      0.000    4.39e+04    1.21e+05\n",
            "x20         1.122e+05   1.47e+04      7.611      0.000    8.33e+04    1.41e+05\n",
            "x21         1.249e+05   1.81e+04      6.908      0.000    8.95e+04     1.6e+05\n",
            "x22         9.938e+04   1.49e+04      6.676      0.000    7.02e+04    1.29e+05\n",
            "x23         9973.6266   1.37e+04      0.726      0.468    -1.7e+04    3.69e+04\n",
            "x24          1.65e+05    2.2e+04      7.499      0.000    1.22e+05    2.08e+05\n",
            "x25        -2.883e+04   8991.326     -3.206      0.001   -4.65e+04   -1.12e+04\n",
            "x26          1.61e+05   9208.495     17.488      0.000    1.43e+05    1.79e+05\n",
            "x27         1.114e+05   1.27e+04      8.794      0.000    8.66e+04    1.36e+05\n",
            "x28          1.27e+04   8021.960      1.583      0.113   -3026.391    2.84e+04\n",
            "x29         2.631e+05   8479.172     31.024      0.000    2.46e+05     2.8e+05\n",
            "x30         3.855e+04   9778.059      3.943      0.000    1.94e+04    5.77e+04\n",
            "x31         1.261e+06   2.75e+04     45.927      0.000    1.21e+06    1.31e+06\n",
            "x32         4.618e+05    1.3e+04     35.601      0.000    4.36e+05    4.87e+05\n",
            "x33         1.071e+05    1.4e+04      7.669      0.000    7.97e+04    1.34e+05\n",
            "x34         2.033e+05   8530.258     23.832      0.000    1.87e+05     2.2e+05\n",
            "x35         6.371e+04   7569.070      8.417      0.000    4.89e+04    7.85e+04\n",
            "x36         1.406e+05   9166.432     15.341      0.000    1.23e+05    1.59e+05\n",
            "x37         2.046e+05   6589.875     31.052      0.000    1.92e+05    2.18e+05\n",
            "x38         8.378e+04   1.24e+04      6.764      0.000    5.95e+04    1.08e+05\n",
            "x39         1.184e+05   1.06e+04     11.163      0.000    9.76e+04    1.39e+05\n",
            "==============================================================================\n",
            "Omnibus:                    18256.616   Durbin-Watson:                   1.997\n",
            "Prob(Omnibus):                  0.000   Jarque-Bera (JB):          2088143.350\n",
            "Skew:                           3.487   Prob(JB):                         0.00\n",
            "Kurtosis:                      50.665   Cond. No.                     1.13e+16\n",
            "==============================================================================\n",
            "\n",
            "Notes:\n",
            "[1] Standard Errors assume that the covariance matrix of the errors is correctly specified.\n",
            "[2] The smallest eigenvalue is 4.34e-19. This might indicate that there are\n",
            "strong multicollinearity problems or that the design matrix is singular.\n"
          ]
        }
      ],
      "source": [
        "# deleteindex number 39 because p values higher than 0.5 (our segnificance level )\n",
        "x_opt=x[: , [0,1,2,3,4,5,6,7,8,9,10,11,12,13,14,15,16,17,18,19,20,21,22,23,24,25,26,27,28,29,30,31,32,33,34,35,36,37,38,40]]\n",
        "\n",
        "ols_reg =sm.OLS(endog=y ,exog=x_opt).fit()\n",
        "print(ols_reg.summary())"
      ]
    },
    {
      "cell_type": "code",
      "execution_count": 31,
      "metadata": {
        "colab": {
          "base_uri": "https://localhost:8080/"
        },
        "id": "dO-IR-70awHE",
        "outputId": "58411e20-35ca-4f33-f2c8-9b50db177edb"
      },
      "outputs": [
        {
          "name": "stdout",
          "output_type": "stream",
          "text": [
            "                            OLS Regression Results                            \n",
            "==============================================================================\n",
            "Dep. Variable:                      y   R-squared:                       0.739\n",
            "Model:                            OLS   Adj. R-squared:                  0.739\n",
            "Method:                 Least Squares   F-statistic:                     1651.\n",
            "Date:                Sun, 08 Jan 2023   Prob (F-statistic):               0.00\n",
            "Time:                        08:09:55   Log-Likelihood:            -2.9285e+05\n",
            "No. Observations:               21596   AIC:                         5.858e+05\n",
            "Df Residuals:                   21558   BIC:                         5.861e+05\n",
            "Df Model:                          37                                         \n",
            "Covariance Type:            nonrobust                                         \n",
            "==============================================================================\n",
            "                 coef    std err          t      P>|t|      [0.025      0.975]\n",
            "------------------------------------------------------------------------------\n",
            "const      -7.393e+07   8.87e+06     -8.332      0.000   -9.13e+07   -5.65e+07\n",
            "x1         -3.915e+04   1855.478    -21.102      0.000   -4.28e+04   -3.55e+04\n",
            "x2          4.097e+04   3056.656     13.404      0.000     3.5e+04     4.7e+04\n",
            "x3           107.4579      2.137     50.280      0.000     103.269     111.647\n",
            "x4             0.1726      0.045      3.856      0.000       0.085       0.260\n",
            "x5          1.978e+04   3460.018      5.717      0.000     1.3e+04    2.66e+04\n",
            "x6          5.922e+05   1.62e+04     36.491      0.000     5.6e+05    6.24e+05\n",
            "x7          4.204e+04   2007.088     20.944      0.000    3.81e+04     4.6e+04\n",
            "x8          2.524e+04   2224.635     11.344      0.000    2.09e+04    2.96e+04\n",
            "x9          9.003e+04   2044.294     44.041      0.000     8.6e+04     9.4e+04\n",
            "x10           69.9560      2.123     32.946      0.000      65.794      74.118\n",
            "x11           37.5018      2.495     15.031      0.000      32.612      42.392\n",
            "x12        -2327.5658     70.311    -33.104      0.000   -2465.381   -2189.751\n",
            "x13           17.2162      3.309      5.202      0.000      10.729      23.703\n",
            "x14           -0.3013      0.070     -4.323      0.000      -0.438      -0.165\n",
            "x15         2.437e+04   6831.414      3.567      0.000     1.1e+04    3.78e+04\n",
            "x16         3.858e+04   4402.313      8.765      0.000       3e+04    4.72e+04\n",
            "x17         1595.9115    659.551      2.420      0.016     303.143    2888.680\n",
            "x18         3.481e+05   7645.413     45.533      0.000    3.33e+05    3.63e+05\n",
            "x19         8.061e+04   1.95e+04      4.125      0.000    4.23e+04    1.19e+05\n",
            "x20         1.105e+05   1.46e+04      7.593      0.000     8.2e+04    1.39e+05\n",
            "x21         1.229e+05   1.79e+04      6.879      0.000    8.79e+04    1.58e+05\n",
            "x22         9.757e+04   1.47e+04      6.648      0.000    6.88e+04    1.26e+05\n",
            "x23         1.629e+05   2.18e+04      7.468      0.000     1.2e+05    2.06e+05\n",
            "x24        -3.056e+04   8666.415     -3.527      0.000   -4.76e+04   -1.36e+04\n",
            "x25         1.593e+05   8891.991     17.915      0.000    1.42e+05    1.77e+05\n",
            "x26         1.097e+05   1.24e+04      8.814      0.000    8.53e+04    1.34e+05\n",
            "x27         1.094e+04   7648.634      1.431      0.153   -4049.468    2.59e+04\n",
            "x28         2.613e+05   8135.515     32.122      0.000    2.45e+05    2.77e+05\n",
            "x29         3.678e+04   9469.267      3.884      0.000    1.82e+04    5.53e+04\n",
            "x30         1.259e+06   2.74e+04     46.035      0.000    1.21e+06    1.31e+06\n",
            "x31         4.601e+05   1.28e+04     36.084      0.000    4.35e+05    4.85e+05\n",
            "x32         1.052e+05   1.37e+04      7.666      0.000    7.83e+04    1.32e+05\n",
            "x33         2.016e+05   8189.978     24.610      0.000    1.86e+05    2.18e+05\n",
            "x34         6.197e+04   7176.244      8.635      0.000    4.79e+04     7.6e+04\n",
            "x35         1.389e+05   8864.820     15.672      0.000    1.22e+05    1.56e+05\n",
            "x36         2.029e+05   6136.615     33.061      0.000    1.91e+05    2.15e+05\n",
            "x37         8.205e+04   1.22e+04      6.751      0.000    5.82e+04    1.06e+05\n",
            "x38         1.166e+05   1.03e+04     11.303      0.000    9.64e+04    1.37e+05\n",
            "==============================================================================\n",
            "Omnibus:                    18257.387   Durbin-Watson:                   1.997\n",
            "Prob(Omnibus):                  0.000   Jarque-Bera (JB):          2088693.621\n",
            "Skew:                           3.487   Prob(JB):                         0.00\n",
            "Kurtosis:                      50.671   Cond. No.                     1.13e+16\n",
            "==============================================================================\n",
            "\n",
            "Notes:\n",
            "[1] Standard Errors assume that the covariance matrix of the errors is correctly specified.\n",
            "[2] The smallest eigenvalue is 4.34e-19. This might indicate that there are\n",
            "strong multicollinearity problems or that the design matrix is singular.\n"
          ]
        }
      ],
      "source": [
        "#deleting 23 index because p values higher than 0.5 (our segnificance level )\n",
        "x_opt=x[: , [0,1,2,3,4,5,6,7,8,9,10,11,12,13,14,15,16,17,18,19,20,21,22,24,25,26,27,28,29,30,31,32,33,34,35,36,37,38,40]]\n",
        "\n",
        "ols_reg =sm.OLS(endog=y ,exog=x_opt).fit()\n",
        "print(ols_reg.summary())"
      ]
    },
    {
      "cell_type": "code",
      "execution_count": 32,
      "metadata": {
        "colab": {
          "base_uri": "https://localhost:8080/"
        },
        "id": "RuYdocDlYtCA",
        "outputId": "769aa1e4-ec36-401b-a9e4-c85e86653faa"
      },
      "outputs": [
        {
          "name": "stdout",
          "output_type": "stream",
          "text": [
            "                            OLS Regression Results                            \n",
            "==============================================================================\n",
            "Dep. Variable:                      y   R-squared:                       0.739\n",
            "Model:                            OLS   Adj. R-squared:                  0.739\n",
            "Method:                 Least Squares   F-statistic:                     1697.\n",
            "Date:                Sun, 08 Jan 2023   Prob (F-statistic):               0.00\n",
            "Time:                        08:09:56   Log-Likelihood:            -2.9285e+05\n",
            "No. Observations:               21596   AIC:                         5.858e+05\n",
            "Df Residuals:                   21559   BIC:                         5.861e+05\n",
            "Df Model:                          36                                         \n",
            "Covariance Type:            nonrobust                                         \n",
            "==============================================================================\n",
            "                 coef    std err          t      P>|t|      [0.025      0.975]\n",
            "------------------------------------------------------------------------------\n",
            "const      -7.402e+07   8.87e+06     -8.342      0.000   -9.14e+07   -5.66e+07\n",
            "x1         -3.912e+04   1855.382    -21.086      0.000   -4.28e+04   -3.55e+04\n",
            "x2          4.099e+04   3056.702     13.410      0.000     3.5e+04     4.7e+04\n",
            "x3           107.4537      2.137     50.277      0.000     103.265     111.643\n",
            "x4             0.1717      0.045      3.838      0.000       0.084       0.259\n",
            "x5          1.973e+04   3459.903      5.702      0.000    1.29e+04    2.65e+04\n",
            "x6          5.919e+05   1.62e+04     36.477      0.000     5.6e+05    6.24e+05\n",
            "x7          4.189e+04   2004.513     20.898      0.000     3.8e+04    4.58e+04\n",
            "x8          2.525e+04   2224.671     11.350      0.000    2.09e+04    2.96e+04\n",
            "x9          9.004e+04   2044.331     44.045      0.000     8.6e+04     9.4e+04\n",
            "x10           69.8935      2.123     32.923      0.000      65.732      74.055\n",
            "x11           37.5602      2.495     15.056      0.000      32.670      42.450\n",
            "x12        -2325.7949     70.302    -33.083      0.000   -2463.592   -2187.998\n",
            "x13           17.3981      3.307      5.261      0.000      10.916      23.880\n",
            "x14           -0.3092      0.069     -4.450      0.000      -0.445      -0.173\n",
            "x15         2.435e+04   6831.564      3.564      0.000     1.1e+04    3.77e+04\n",
            "x16         3.863e+04   4402.308      8.775      0.000       3e+04    4.73e+04\n",
            "x17         1594.3618    659.566      2.417      0.016     301.564    2887.160\n",
            "x18         3.426e+05   6604.720     51.873      0.000     3.3e+05    3.56e+05\n",
            "x19          7.55e+04   1.92e+04      3.930      0.000    3.78e+04    1.13e+05\n",
            "x20          1.05e+05    1.4e+04      7.481      0.000    7.75e+04    1.32e+05\n",
            "x21         1.181e+05   1.76e+04      6.729      0.000    8.37e+04    1.53e+05\n",
            "x22         9.232e+04   1.42e+04      6.497      0.000    6.45e+04     1.2e+05\n",
            "x23         1.581e+05   2.16e+04      7.335      0.000    1.16e+05       2e+05\n",
            "x24        -3.603e+04   7779.394     -4.631      0.000   -5.13e+04   -2.08e+04\n",
            "x25         1.539e+05   8038.526     19.140      0.000    1.38e+05     1.7e+05\n",
            "x26         1.042e+05   1.18e+04      8.801      0.000     8.1e+04    1.27e+05\n",
            "x27         2.559e+05   7181.141     35.629      0.000    2.42e+05     2.7e+05\n",
            "x28         3.138e+04   8683.028      3.614      0.000    1.44e+04    4.84e+04\n",
            "x29         1.254e+06   2.71e+04     46.294      0.000     1.2e+06    1.31e+06\n",
            "x30         4.546e+05   1.22e+04     37.395      0.000    4.31e+05    4.78e+05\n",
            "x31             1e+05   1.32e+04      7.557      0.000    7.41e+04    1.26e+05\n",
            "x32         1.961e+05   7246.392     27.062      0.000    1.82e+05     2.1e+05\n",
            "x33          5.65e+04   6074.485      9.301      0.000    4.46e+04    6.84e+04\n",
            "x34         1.334e+05   7979.512     16.718      0.000    1.18e+05    1.49e+05\n",
            "x35         1.975e+05   4845.773     40.756      0.000    1.88e+05    2.07e+05\n",
            "x36         7.656e+04   1.15e+04      6.639      0.000     5.4e+04    9.92e+04\n",
            "x37         1.113e+05   9615.382     11.572      0.000    9.24e+04     1.3e+05\n",
            "==============================================================================\n",
            "Omnibus:                    18258.123   Durbin-Watson:                   1.997\n",
            "Prob(Omnibus):                  0.000   Jarque-Bera (JB):          2089264.190\n",
            "Skew:                           3.487   Prob(JB):                         0.00\n",
            "Kurtosis:                      50.678   Cond. No.                     1.13e+16\n",
            "==============================================================================\n",
            "\n",
            "Notes:\n",
            "[1] Standard Errors assume that the covariance matrix of the errors is correctly specified.\n",
            "[2] The smallest eigenvalue is 4.34e-19. This might indicate that there are\n",
            "strong multicollinearity problems or that the design matrix is singular.\n"
          ]
        }
      ],
      "source": [
        "#deleting 27 index because p values higher than 0.5 (our segnificance level )\n",
        "x_opt=x[: , [0,1,2,3,4,5,6,7,8,9,10,11,12,13,14,15,16,17,18,19,20,21,22,24,25,26,27,29,30,31,32,33,34,35,36,37,38,40]]\n",
        "\n",
        "ols_reg =sm.OLS(endog=y ,exog=x_opt).fit()\n",
        "print(ols_reg.summary())"
      ]
    },
    {
      "cell_type": "code",
      "execution_count": 33,
      "metadata": {
        "colab": {
          "base_uri": "https://localhost:8080/"
        },
        "id": "Hxf95MauYhTH",
        "outputId": "89e693af-36bc-4e8a-9aa7-e235b36a4f30"
      },
      "outputs": [
        {
          "data": {
            "text/plain": [
              "Index(['bedrooms', 'bathrooms', 'sqft_living', 'sqft_lot', 'floors',\n",
              "       'waterfront', 'view', 'condition', 'grade', 'sqft_above',\n",
              "       'sqft_basement', 'yr_built', 'sqft_living15', 'sqft_lot15',\n",
              "       'is_renovated', 'year', 'month', 'Bellevue', 'Black Diamond', 'Bothell',\n",
              "       'Carnation', 'Duvall', 'Fall City', 'Federal Way', 'Issaquah',\n",
              "       'Kenmore', 'Kirkland', 'Maple Valley', 'Medina', 'Mercer Island',\n",
              "       'North Bend', 'Redmond', 'Renton', 'Sammamish', 'Seattle', 'Snoqualmie',\n",
              "       'Woodinville'],\n",
              "      dtype='object')"
            ]
          },
          "execution_count": 33,
          "metadata": {},
          "output_type": "execute_result"
        }
      ],
      "source": [
        "df_after_extract_features=df_dummies.drop(\"price\" ,axis=1) # dropping the column of target to only take features \n",
        "df_after_extract_features=df_after_extract_features.iloc[: , [0,1,2,3,4,5,6,7,8,9,10,11,12,13,14,15,16,17,18,19,20,21,23,24,25,26,28,29,30,31,32,33,34,35,36,37,39]] #subsetting the index we got from the backword elimination \n",
        "df_after_extract_features.columns # print columns name "
      ]
    },
    {
      "cell_type": "code",
      "execution_count": 34,
      "metadata": {
        "id": "cnZJdsFwA-74"
      },
      "outputs": [],
      "source": [
        "y=df_dummies[\"price\"]# our target Series \n",
        "df_new=pd.concat([df_after_extract_features ,y] ,axis=1) # features dataFrame that resulted from the backword elimination \n",
        "df_new[[\"waterfront\",\"view\",\"condition\",\"grade\",\"is_renovated\",\"year\",\"month\"]]=df_new[[\"waterfront\",\"view\",\"condition\",\"grade\",\"is_renovated\",\"year\",\"month\"]].astype(int) #converting data type to int "
      ]
    },
    {
      "cell_type": "markdown",
      "metadata": {
        "id": "kOExvaKaTSP8"
      },
      "source": [
        "Bckword_Elimination 2 "
      ]
    },
    {
      "cell_type": "code",
      "execution_count": 35,
      "metadata": {
        "colab": {
          "base_uri": "https://localhost:8080/"
        },
        "id": "Wmv-gGeoTRRF",
        "outputId": "556901c5-f695-4046-baad-dd3fc776c531"
      },
      "outputs": [
        {
          "data": {
            "text/plain": [
              "(21596, 42)"
            ]
          },
          "execution_count": 35,
          "metadata": {},
          "output_type": "execute_result"
        }
      ],
      "source": [
        "# making a second data Frame which containing latitude and longitude, named df_lat \n",
        "df_lat=df_lat.drop([\"id\",\"date\",\"zipcode\",\"yr_renovated\"],axis=1) # creating df_lat \n",
        "X=df_lat.drop(\"price\" ,axis=1) # features variable \n",
        "y=df_lat[\"price\"] # target variable \n",
        "X=X.values # converted to 2d array\n",
        "y=y.values # converted to 1d array \n",
        "y.shape # shape of array for target variable \n",
        "X.shape # shape of array for features "
      ]
    },
    {
      "cell_type": "code",
      "execution_count": 36,
      "metadata": {
        "colab": {
          "base_uri": "https://localhost:8080/"
        },
        "id": "jalecrJ4TRE2",
        "outputId": "b9da4525-1742-4fa8-c155-4389f1686f75"
      },
      "outputs": [
        {
          "data": {
            "text/plain": [
              "(21596, 43)"
            ]
          },
          "execution_count": 36,
          "metadata": {},
          "output_type": "execute_result"
        }
      ],
      "source": [
        "X=np.append(arr=np.ones((21596,1)).astype(\"int\"),values=X,axis=1) # adding one to the first column of the array \n",
        "# because b0 in  statsmodels doesnt defined \n",
        "X.shape"
      ]
    },
    {
      "cell_type": "code",
      "execution_count": 37,
      "metadata": {
        "colab": {
          "base_uri": "https://localhost:8080/"
        },
        "id": "dAazkpXwU_wE",
        "outputId": "32cef665-8b13-41b8-d94a-5ca7bd8c904c"
      },
      "outputs": [
        {
          "name": "stdout",
          "output_type": "stream",
          "text": [
            "                            OLS Regression Results                            \n",
            "==============================================================================\n",
            "Dep. Variable:                      y   R-squared:                       0.739\n",
            "Model:                            OLS   Adj. R-squared:                  0.739\n",
            "Method:                 Least Squares   F-statistic:                     1697.\n",
            "Date:                Sun, 08 Jan 2023   Prob (F-statistic):               0.00\n",
            "Time:                        08:09:56   Log-Likelihood:            -2.9285e+05\n",
            "No. Observations:               21596   AIC:                         5.858e+05\n",
            "Df Residuals:                   21559   BIC:                         5.861e+05\n",
            "Df Model:                          36                                         \n",
            "Covariance Type:            nonrobust                                         \n",
            "==============================================================================\n",
            "                 coef    std err          t      P>|t|      [0.025      0.975]\n",
            "------------------------------------------------------------------------------\n",
            "const      -7.402e+07   8.87e+06     -8.342      0.000   -9.14e+07   -5.66e+07\n",
            "x1         -3.912e+04   1855.382    -21.086      0.000   -4.28e+04   -3.55e+04\n",
            "x2          4.099e+04   3056.702     13.410      0.000     3.5e+04     4.7e+04\n",
            "x3           107.4537      2.137     50.277      0.000     103.265     111.643\n",
            "x4             0.1717      0.045      3.838      0.000       0.084       0.259\n",
            "x5          1.973e+04   3459.903      5.702      0.000    1.29e+04    2.65e+04\n",
            "x6          5.919e+05   1.62e+04     36.477      0.000     5.6e+05    6.24e+05\n",
            "x7          4.189e+04   2004.513     20.898      0.000     3.8e+04    4.58e+04\n",
            "x8          2.525e+04   2224.671     11.350      0.000    2.09e+04    2.96e+04\n",
            "x9          9.004e+04   2044.331     44.045      0.000     8.6e+04     9.4e+04\n",
            "x10           69.8935      2.123     32.923      0.000      65.732      74.055\n",
            "x11           37.5602      2.495     15.056      0.000      32.670      42.450\n",
            "x12        -2325.7949     70.302    -33.083      0.000   -2463.592   -2187.998\n",
            "x13           17.3981      3.307      5.261      0.000      10.916      23.880\n",
            "x14           -0.3092      0.069     -4.450      0.000      -0.445      -0.173\n",
            "x15         2.435e+04   6831.564      3.564      0.000     1.1e+04    3.77e+04\n",
            "x16         3.863e+04   4402.308      8.775      0.000       3e+04    4.73e+04\n",
            "x17         1594.3618    659.566      2.417      0.016     301.564    2887.160\n",
            "x18         3.426e+05   6604.720     51.873      0.000     3.3e+05    3.56e+05\n",
            "x19          7.55e+04   1.92e+04      3.930      0.000    3.78e+04    1.13e+05\n",
            "x20          1.05e+05    1.4e+04      7.481      0.000    7.75e+04    1.32e+05\n",
            "x21         1.181e+05   1.76e+04      6.729      0.000    8.37e+04    1.53e+05\n",
            "x22         9.232e+04   1.42e+04      6.497      0.000    6.45e+04     1.2e+05\n",
            "x23         1.581e+05   2.16e+04      7.335      0.000    1.16e+05       2e+05\n",
            "x24        -3.603e+04   7779.394     -4.631      0.000   -5.13e+04   -2.08e+04\n",
            "x25         1.539e+05   8038.526     19.140      0.000    1.38e+05     1.7e+05\n",
            "x26         1.042e+05   1.18e+04      8.801      0.000     8.1e+04    1.27e+05\n",
            "x27         2.559e+05   7181.141     35.629      0.000    2.42e+05     2.7e+05\n",
            "x28         3.138e+04   8683.028      3.614      0.000    1.44e+04    4.84e+04\n",
            "x29         1.254e+06   2.71e+04     46.294      0.000     1.2e+06    1.31e+06\n",
            "x30         4.546e+05   1.22e+04     37.395      0.000    4.31e+05    4.78e+05\n",
            "x31             1e+05   1.32e+04      7.557      0.000    7.41e+04    1.26e+05\n",
            "x32         1.961e+05   7246.392     27.062      0.000    1.82e+05     2.1e+05\n",
            "x33          5.65e+04   6074.485      9.301      0.000    4.46e+04    6.84e+04\n",
            "x34         1.334e+05   7979.512     16.718      0.000    1.18e+05    1.49e+05\n",
            "x35         1.975e+05   4845.773     40.756      0.000    1.88e+05    2.07e+05\n",
            "x36         7.656e+04   1.15e+04      6.639      0.000     5.4e+04    9.92e+04\n",
            "x37         1.113e+05   9615.382     11.572      0.000    9.24e+04     1.3e+05\n",
            "==============================================================================\n",
            "Omnibus:                    18258.123   Durbin-Watson:                   1.997\n",
            "Prob(Omnibus):                  0.000   Jarque-Bera (JB):          2089264.190\n",
            "Skew:                           3.487   Prob(JB):                         0.00\n",
            "Kurtosis:                      50.678   Cond. No.                     1.13e+16\n",
            "==============================================================================\n",
            "\n",
            "Notes:\n",
            "[1] Standard Errors assume that the covariance matrix of the errors is correctly specified.\n",
            "[2] The smallest eigenvalue is 4.34e-19. This might indicate that there are\n",
            "strong multicollinearity problems or that the design matrix is singular.\n"
          ]
        }
      ],
      "source": [
        "import  statsmodels.api as sm \n",
        "X_opt=X[: , [0,1,2,3,4,5,6,7,8,9,10,11,12,13,14,15,16,17,18,19,20,21,22,23,24,25,26,27,28,29,30,31,32,33,34,35,36,37,38,39,40,41,42]]  \n",
        "\n",
        "ols_reg =sm.OLS(endog=y ,exog=x_opt).fit() # fit model for starting backword elimination \n",
        "print(ols_reg.summary()) # print summary  "
      ]
    },
    {
      "cell_type": "code",
      "execution_count": 38,
      "metadata": {
        "id": "J0Wtr9bWWlhI"
      },
      "outputs": [],
      "source": [
        "df_lat=df_lat.drop(\"Carnation\",axis=1) # df_"
      ]
    },
    {
      "cell_type": "markdown",
      "metadata": {
        "id": "rewQpuJWjdyC"
      },
      "source": [
        "#models"
      ]
    },
    {
      "cell_type": "code",
      "execution_count": 93,
      "metadata": {
        "id": "51Bmh02O0Wv7"
      },
      "outputs": [],
      "source": [
        "from pandas.core import algorithms \n",
        "from sklearn.linear_model import LinearRegression ,Lasso\n",
        "from sklearn.model_selection import train_test_split ,cross_val_score , KFold,GridSearchCV ,RandomizedSearchCV ,learning_curve\n",
        "from sklearn.preprocessing import StandardScaler \n",
        "from sklearn.tree import DecisionTreeRegressor\n",
        "from sklearn.pipeline import Pipeline\n",
        "from sklearn.ensemble import RandomForestRegressor ,GradientBoostingRegressor\n",
        "from sklearn.svm import SVR\n",
        "from sklearn.metrics import mean_squared_error\n",
        "from sklearn.feature_selection import RFE\n",
        "\n",
        "\n",
        "class Regresssion_models() : # creating a class for random forest and gradient boosting algorithms, which contains functions that help automating any data to choose the best model\n",
        "  def __init__(self,data,target,algorithim): \n",
        "    \"\"\" variables related to the entire class \"\"\"\n",
        "    self.data=data\n",
        "    self.target=target\n",
        "    self.algorithim=algorithim\n",
        "  \n",
        "  \n",
        "  def model(self) :\n",
        "    \"\"\" splitting data, features from target variables. And splitting data to train and test to get reliable results \"\"\"\n",
        "    X=self.data.drop(self.target ,axis=1)\n",
        "    y=self.data[self.target]\n",
        "    X_train,X_test ,y_train ,y_test = train_test_split(X,y,test_size=0.2 ,random_state=0)\n",
        "    return(X_train ,X_test ,y_train ,y_test)\n",
        "\n",
        "  def train(self):\n",
        "    \"\"\" trainig the model to get the coefficients\"\"\"\n",
        "    mdl=self.algorithim\n",
        "    return mdl.fit(self.model()[0],self.model()[2])\n",
        "\n",
        "  def accuracy(self,number_of_fold=5):\n",
        "    \"\"\" Calculate the accuracy for cross validation of data, training, and testing the data\"\"\"\n",
        "    kf=KFold(number_of_fold ,shuffle=True,random_state=0)\n",
        "    cv_score=np.mean(cross_val_score(self.algorithim,self.model()[0],self.model()[2],cv=kf))\n",
        "    train_score=self.train().score(self.model()[0],self.model()[2])\n",
        "    test_score=self.train().score(self.model()[1],self.model()[3])\n",
        "    return (f\"validation_score:{cv_score},train_score:{train_score} ,test_score :{test_score}\")\n",
        "\n",
        "  def enhance_rf_model(self,n_estimators=100 ,max_depth=8 , min_sample_leaf=3,number_of_fold=5) : \n",
        "    \"\"\" Hyperparameter tuning for the random forest model, to get best hyperparameter\"\"\"\n",
        "    grid={\"n_estimators\":n_estimators, \"max_depth\":max_depth, \"min_samples_leaf\" : min_sample_leaf}\n",
        "    CV=RandomizedSearchCV(self.algorithim,grid,cv=number_of_fold,n_jobs=-1,n_iter=25) \n",
        "    CV.fit(self.model()[0],self.model()[2])\n",
        "    return CV.best_params_\n",
        "\n",
        "  def enhance_boost_model(self,n_estimators=100,number_of_fold=5) : \n",
        "    \"\"\" Hyperparameter tuning for the gradient boosting model, to get best trees number (n_estimators) at a certain learning rate which is 0.2\"\"\"\n",
        "    grid={\"n_estimators\":n_estimators}\n",
        "    CV=GridSearchCV(self.algorithim,grid,cv=number_of_fold,n_jobs=-1) \n",
        "    CV.fit(self.model()[0],self.model()[2])     \n",
        "    for mean, std, params in zip(CV.cv_results_['mean_test_score'], CV.cv_results_['std_test_score'], CV.cv_results_['params']):\n",
        "      print(\"%0.3f for %r\"%(mean , params))\n",
        "\n",
        "  def enhance_boost_model_second(self,learning_rate=0.2,n_estimators=190 ,max_depth=8 , min_sample_leaf=10,number_of_fold=5,subsample=0.8) : \n",
        "    \"\"\" Hyperparameter tuning for the gradient boosting model, to get best hyperparameter, related to the trees\"\"\"\n",
        "    grid={\"max_depth\":max_depth ,\"min_samples_leaf\":min_sample_leaf}\n",
        "    CV=RandomizedSearchCV(self.algorithim,grid,cv=number_of_fold,n_jobs=-1,n_iter=25) \n",
        "    CV.fit(self.model()[0],self.model()[2])     \n",
        "    for mean, std, params in zip(CV.cv_results_['mean_test_score'], CV.cv_results_['std_test_score'], CV.cv_results_['params']):\n",
        "      print(\"%0.3f  for %r\"%(mean , params))\n",
        "  \n",
        "\n",
        "  def feature_selection(self) :\n",
        "    \"\"\"most important features, depending on random forest selestion\"\"\"\n",
        "    importance_feature= pd.Series (self.train().feature_importances_ , index=self.data.drop(self.target ,axis=1).columns).sort_values() \n",
        "    importance_feature.plot(kind=\"bar\") \n",
        "    plt.show( ) \n",
        "\n",
        "  def learn_curve(self,train_size ,number_of_fold=5) :\n",
        "    \"\"\"Creating learning curve to validate our data\"\"\"\n",
        "    train_sizes, train_scores, test_scores = learning_curve(estimator=self.algorithim,X=self.data.drop(self.target ,axis=1),y=self.data[self.target],cv=number_of_fold, scoring=\"neg_root_mean_squared_error\",train_sizes=train_size)\n",
        "    train_mean= -train_scores.mean(axis=1)\n",
        "    test_mean = -test_scores.mean(axis=1)\n",
        "    plt.subplots(figsize=(10,8))\n",
        "    plt.plot(train_sizes, train_mean, label=\"train\")\n",
        "    plt.plot(train_sizes, test_mean, label=\"validation\")\n",
        "    plt.title(\"Learning Curve\")\n",
        "    plt.xlabel(\"Training Set Size\")\n",
        "    plt.ylabel(\"RMSE\")\n",
        "    plt.legend(loc=\"best\")\n",
        "\n",
        "  def price_var(self) : \n",
        "    \"\"\"Finding the residual which between the actual and perdition price to see how its distribution looks links. \"\"\"\n",
        "    y_pred = self.train().predict(self.model()[1])\n",
        "    y_test=self.model()[3]\n",
        "    residual=y_test-y_pred\n",
        "    plt.figure(figsize=(10,8))\n",
        "    return sns.distplot(residual) \n",
        "\n",
        "  def rmse(self) : \n",
        "    \"\"\"Calculate the root mean square error\"\"\"\n",
        "    y_pred = self.train().predict(self.model()[1])\n",
        "    y_test=self.model()[3]\n",
        "    return (f\"root mean square error : {np.sqrt(mean_squared_error(y_test,y_pred))}\")"
      ]
    },
    {
      "cell_type": "markdown",
      "metadata": {
        "id": "uDDOMQwYqiK3"
      },
      "source": [
        "#RandomForest "
      ]
    },
    {
      "cell_type": "markdown",
      "metadata": {
        "id": "4mesb75QmlEL"
      },
      "source": [
        "for dataframe without latitude and longitude"
      ]
    },
    {
      "cell_type": "code",
      "execution_count": 52,
      "metadata": {
        "id": "Bkc-n5rqIff6"
      },
      "outputs": [],
      "source": [
        "rf=Regresssion_models(data=df_new,target=\"price\",algorithim=RandomForestRegressor(random_state=0)) #instantiate the class"
      ]
    },
    {
      "cell_type": "code",
      "execution_count": 47,
      "metadata": {
        "colab": {
          "base_uri": "https://localhost:8080/",
          "height": 36
        },
        "id": "u4LRo3dcKyOG",
        "outputId": "fb344d69-8b62-494a-b170-e539932b44a2"
      },
      "outputs": [
        {
          "data": {
            "application/vnd.google.colaboratory.intrinsic+json": {
              "type": "string"
            },
            "text/plain": [
              "'validation_score:0.7972341864236837,train_score:0.9738847189187415 ,test_score :0.840171186657253'"
            ]
          },
          "execution_count": 47,
          "metadata": {},
          "output_type": "execute_result"
        }
      ],
      "source": [
        "rf.accuracy() # calculating accuracies (cv, train, test) for first trial without tuning >> overfitting "
      ]
    },
    {
      "cell_type": "code",
      "execution_count": null,
      "metadata": {
        "id": "dFrCcOmKa7ff"
      },
      "outputs": [],
      "source": [
        "dict_=rf.enhance_rf_model(n_estimators=np.arange(100,250,50),max_depth=np.arange(3,10,1),min_sample_leaf=np.arange(5,20,1))#tuning hyperparameter"
      ]
    },
    {
      "cell_type": "code",
      "execution_count": null,
      "metadata": {
        "id": "FH62NWoyxelC"
      },
      "outputs": [],
      "source": [
        "rf=Regresssion_models(data=df_new,target=\"price\",algorithim=RandomForestRegressor(**dict_)) #instantiate the class with new hyperparameter"
      ]
    },
    {
      "cell_type": "code",
      "execution_count": null,
      "metadata": {
        "id": "if10skSHe63f"
      },
      "outputs": [],
      "source": [
        "rf.accuracy() #..calculating accuracies (cv, train, test) for trial 2 >> reduced overfitting"
      ]
    },
    {
      "cell_type": "code",
      "execution_count": null,
      "metadata": {
        "id": "iXhPWrq5nS4V"
      },
      "outputs": [],
      "source": [
        "#rf=Regresssion_models(data=df_new,target=\"price\",algorithim=RandomForestRegressor(random_state=0)) #instantiate the class"
      ]
    },
    {
      "cell_type": "code",
      "execution_count": null,
      "metadata": {
        "id": "9YnIi3I_e8RM"
      },
      "outputs": [],
      "source": [
        "rf.feature_selection() # getting most important features, depending on random forest selestion"
      ]
    },
    {
      "cell_type": "code",
      "execution_count": null,
      "metadata": {
        "id": "Qiq5bz6r_pdy"
      },
      "outputs": [],
      "source": [
        "#rf.learn_curve(train_size=[1, 75, 150, 270, 331])"
      ]
    },
    {
      "cell_type": "markdown",
      "metadata": {
        "id": "MZpb82ocn-Z8"
      },
      "source": [
        "new trial of dataframe adding latitude and longitude (df_lat)"
      ]
    },
    {
      "cell_type": "code",
      "execution_count": null,
      "metadata": {
        "id": "LRCfV1FRK5Mk"
      },
      "outputs": [],
      "source": [
        "rf=Regresssion_models(data=df_lat,target=\"price\",algorithim=RandomForestRegressor(random_state=0))\n",
        "# adding latitude and longitude in our consideration "
      ]
    },
    {
      "cell_type": "code",
      "execution_count": null,
      "metadata": {
        "id": "v1SLQcA5K5C_"
      },
      "outputs": [],
      "source": [
        "rf.accuracy()# calculating accuracies (cv, train, test) for first trial without tuning >> overfitting "
      ]
    },
    {
      "cell_type": "code",
      "execution_count": null,
      "metadata": {
        "id": "1j60pz2yNZXR"
      },
      "outputs": [],
      "source": [
        "dict_=rf.enhance_rf_model(n_estimators=np.arange(100,250,50),max_depth=np.arange(3,10,1),min_sample_leaf=np.arange(5,20,1))#tuningtuning hyperparameter"
      ]
    },
    {
      "cell_type": "code",
      "execution_count": null,
      "metadata": {
        "id": "Vbegv6t8NZAL"
      },
      "outputs": [],
      "source": [
        "rf=Regresssion_models(data=df_lat,target=\"price\",algorithim=RandomForestRegressor(**dict_))#instantiate the class with new hyperparameter\n"
      ]
    },
    {
      "cell_type": "code",
      "execution_count": null,
      "metadata": {
        "id": "SnUDAH9RRmJQ"
      },
      "outputs": [],
      "source": [
        "rf.accuracy() #elimenating overfitting and the accuracy is good "
      ]
    },
    {
      "cell_type": "code",
      "execution_count": null,
      "metadata": {
        "id": "0NBgGoWgR9Vl"
      },
      "outputs": [],
      "source": [
        "rf.feature_selection() # the most important feature selection >> the lat and long take place "
      ]
    },
    {
      "cell_type": "code",
      "execution_count": null,
      "metadata": {
        "id": "eRpzTjppR9iS"
      },
      "outputs": [],
      "source": [
        "rf.learn_curve(train_size=[1, 75, 150, 270, 331]) # validation of the data using learning curve"
      ]
    },
    {
      "cell_type": "markdown",
      "metadata": {
        "id": "w98pIvUHRqvY"
      },
      "source": [
        "# GradiantBoosting "
      ]
    },
    {
      "cell_type": "markdown",
      "metadata": {
        "id": "w_rJWatCpHFC"
      },
      "source": [
        "dataframe without latitude and longitude"
      ]
    },
    {
      "cell_type": "code",
      "execution_count": null,
      "metadata": {
        "id": "aywr1f-DRutv"
      },
      "outputs": [],
      "source": [
        "GB=Regresssion_models(df_new,\"price\",GradientBoostingRegressor())\n",
        "GB.accuracy() #calculating accuracies (cv, train, test) for first trial without tuning >> overfitting "
      ]
    },
    {
      "cell_type": "markdown",
      "metadata": {
        "id": "vMVssM1RpnnZ"
      },
      "source": [
        "new trial of dataframe adding latitude and longitude (df_lat)\n",
        "\n"
      ]
    },
    {
      "cell_type": "code",
      "execution_count": 54,
      "metadata": {
        "colab": {
          "base_uri": "https://localhost:8080/",
          "height": 36
        },
        "id": "w2wdVtyHSSxz",
        "outputId": "81dce726-09c4-4027-ee3a-787e2e690ee8"
      },
      "outputs": [
        {
          "data": {
            "application/vnd.google.colaboratory.intrinsic+json": {
              "type": "string"
            },
            "text/plain": [
              "'validation_score:0.8592755396256108,train_score:0.9020358081119414 ,test_score :0.8903621821105341'"
            ]
          },
          "execution_count": 54,
          "metadata": {},
          "output_type": "execute_result"
        }
      ],
      "source": [
        "GB=Regresssion_models(df_lat,\"price\",GradientBoostingRegressor())\n",
        "GB.accuracy()#calculating accuracies (cv, train, test) for first trial without tuning >> overfitting (higher than (df_new))"
      ]
    },
    {
      "cell_type": "code",
      "execution_count": null,
      "metadata": {
        "id": "ZmS_f7QRSVp5"
      },
      "outputs": [],
      "source": [
        "GB=Regresssion_models(df_lat,\"price\",GradientBoostingRegressor(learning_rate=0.2)) #instantiate the class based on learning rate =0.2"
      ]
    },
    {
      "cell_type": "code",
      "execution_count": null,
      "metadata": {
        "id": "NvwoIj8QSWNM"
      },
      "outputs": [],
      "source": [
        "GB.enhance_boost_model(n_estimators=np.arange(50,200,10)) #hyperparameter tuning to find appropriate number of trees, at specific learning rate"
      ]
    },
    {
      "cell_type": "code",
      "execution_count": null,
      "metadata": {
        "id": "yqWYNRkESdUs"
      },
      "outputs": [],
      "source": [
        "GB=Regresssion_models(df_lat,\"price\",GradientBoostingRegressor(learning_rate=0.2,n_estimators=190)) #instantiate the new class with the best number of trees\n",
        "GB.accuracy() #calculating accuracies (cv, train, test) for second trial without hyperparameters related to the tree"
      ]
    },
    {
      "cell_type": "code",
      "execution_count": null,
      "metadata": {
        "id": "EhJTEaPpShy2"
      },
      "outputs": [],
      "source": [
        "GB.enhance_boost_model_second(max_depth=np.arange(5,15,1) ,min_sample_leaf=np.arange(10,50,5)) #hyperparameter tuning"
      ]
    },
    {
      "cell_type": "code",
      "execution_count": 94,
      "metadata": {
        "colab": {
          "base_uri": "https://localhost:8080/",
          "height": 36
        },
        "id": "JNTPpUuLShp3",
        "outputId": "f6b30f0f-0295-4e65-9cf1-6c87cf873a03"
      },
      "outputs": [
        {
          "data": {
            "application/vnd.google.colaboratory.intrinsic+json": {
              "type": "string"
            },
            "text/plain": [
              "'validation_score:0.8787369203393073,train_score:0.9225414026860724 ,test_score :0.9004212617550983'"
            ]
          },
          "execution_count": 94,
          "metadata": {},
          "output_type": "execute_result"
        }
      ],
      "source": [
        "GB=Regresssion_models(df_lat,\"price\",GradientBoostingRegressor(learning_rate=0.2,n_estimators=190,max_depth= 3,min_samples_leaf= 30)) #instantiate the class\n",
        "GB.accuracy() #calculating accuracies (cv, train, test) for third trial  >> the best model\n"
      ]
    },
    {
      "cell_type": "code",
      "execution_count": 95,
      "metadata": {
        "colab": {
          "base_uri": "https://localhost:8080/",
          "height": 525
        },
        "id": "EaMiTJ1JfS-p",
        "outputId": "b6510214-391b-4be3-ce2b-4f9fcbbf14ee"
      },
      "outputs": [
        {
          "data": {
            "text/plain": [
              "(<matplotlib.axes._subplots.AxesSubplot at 0x7f9744fa9490>, 118315.61423993083)"
            ]
          },
          "execution_count": 95,
          "metadata": {},
          "output_type": "execute_result"
        },
        {
          "data": {
            "image/png": "[encoded data removed]",
            "text/plain": [
              "<Figure size 720x576 with 1 Axes>"
            ]
          },
          "metadata": {
            "needs_background": "light"
          },
          "output_type": "display_data"
        }
      ],
      "source": [
        "GB.var()"
      ]
    },
    {
      "cell_type": "code",
      "execution_count": 96,
      "metadata": {
        "colab": {
          "base_uri": "https://localhost:8080/",
          "height": 36
        },
        "id": "KORtPT1O4YYS",
        "outputId": "3202f9c4-2bfe-40b2-f6ca-4bceb687eeb6"
      },
      "outputs": [
        {
          "data": {
            "application/vnd.google.colaboratory.intrinsic+json": {
              "type": "string"
            },
            "text/plain": [
              "'root mean square error : 118318.0381113266'"
            ]
          },
          "execution_count": 96,
          "metadata": {},
          "output_type": "execute_result"
        }
      ],
      "source": [
        "GB.mse()"
      ]
    },
    {
      "cell_type": "markdown",
      "metadata": {
        "id": "TErgGjaqT5Uj"
      },
      "source": [
        "#Feature Selection "
      ]
    },
    {
      "cell_type": "code",
      "execution_count": null,
      "metadata": {
        "id": "iJ4_vnQftpvA"
      },
      "outputs": [],
      "source": [
        "from seaborn.regression import algo\n",
        "class feature_selection () :  #selecting the most important features using random forest and lasso\n",
        "  def __init__ (self ,data, target): \n",
        "    \"\"\" variables related to the entire class \"\"\"\n",
        "    self.data =data \n",
        "    self.target =target \n",
        "  \n",
        "  def Random_forest_method (self) : \n",
        "    \"\"\" most important features, depending on random forest selestion\"\"\"\n",
        "    X=self.data.drop(self.target ,axis=1)\n",
        "    y=self.data[self.target]\n",
        "    X_train,X_test,y_train,y_test=train_test_split(X,y,test_size=0.25 ,random_state=0) \n",
        "    rf=RandomForestRegressor(n_estimators=100)\n",
        "    rf.fit(X_train ,y_train)\n",
        "    importance_feature= pd.Series ( rf.feature_importances_, index=X.columns).sort_values() \n",
        "    s=pd.Series(np.array(X.columns)[rf.feature_importances_ > 0.05])\n",
        "    df_rf=pd.DataFrame(self.data.loc[:,s])\n",
        "    plot=importance_feature.plot(kind=\"bar\") \n",
        "    return df_rf,plot\n",
        "  \n",
        "  def Lasso(self ,k_fold=5) : \n",
        "    \"\"\" most important features, depending on lasso coefficients (ignoring the coefficient which shrinks to zero)\"\"\"\n",
        "    X=self.data.drop(self.target ,axis=1)\n",
        "    y=self.data[self.target]\n",
        "    X_train,X_test,y_train,y_test=train_test_split(X,y,test_size=0.25 ,random_state=0) \n",
        "    pipeline = Pipeline([('scaler',StandardScaler()),\n",
        "                     ('model',Lasso())])    \n",
        "    search = GridSearchCV(pipeline,\n",
        "                      {'model__alpha':np.arange(0.1,3,0.3)},\n",
        "                      cv = k_fold, scoring=\"neg_mean_squared_error\")\n",
        "    search.fit(X_train,y_train)\n",
        "    coefficients = search.best_estimator_.named_steps['model'].coef_\n",
        "    importance = np.abs(coefficients)  \n",
        "    importance_feature= pd.Series ( importance, index=X.columns).sort_values()\n",
        "    s=pd.Series(np.array(X.columns)[importance > 0]) \n",
        "    df_lasso=pd.DataFrame(self.data.loc[:,s])\n",
        "    plot=importance_feature.plot(kind=\"bar\")\n",
        "    return df_lasso ,plot\n"
      ]
    },
    {
      "cell_type": "code",
      "execution_count": null,
      "metadata": {
        "id": "d-_BanYhHwbi"
      },
      "outputs": [],
      "source": [
        "mdl=feature_selection(df_lat,\"price\") #instantiate class"
      ]
    },
    {
      "cell_type": "code",
      "execution_count": null,
      "metadata": {
        "id": "lMffh1wXVr36"
      },
      "outputs": [],
      "source": [
        "df_rf,plot_rf=mdl.Random_forest_method() #selecting features depending on random forest, and printing the dataframe and plot\n",
        "print(df_rf)"
      ]
    },
    {
      "cell_type": "code",
      "execution_count": null,
      "metadata": {
        "id": "eFllKsG4V_Dd"
      },
      "outputs": [],
      "source": [
        "df_lasso,plot_lasso=mdl.Lasso() #selecting features depending on lasso, and printing the dataframe and plot\n",
        "print(df_rf)"
      ]
    },
    {
      "cell_type": "markdown",
      "metadata": {
        "id": "pG765wrQUM4K"
      },
      "source": [
        "#Saving the best trained model "
      ]
    },
    {
      "cell_type": "code",
      "execution_count": null,
      "metadata": {
        "id": "WtJi6MoOe_Po"
      },
      "outputs": [],
      "source": [
        "#Training the best model\n",
        "GB=GradientBoostingRegressor(learning_rate=0.2,n_estimators=190,max_depth= 3,min_samples_leaf= 30)\n",
        "X=df_lat.drop(\"price\",axis=1)\n",
        "y=df_lat[\"price\"]\n",
        "X_train,X_test,y_train,y_test=train_test_split(X,y,test_size=0.25 ,random_state=0) \n",
        "GB.fit(X_train,y_train) "
      ]
    },
    {
      "cell_type": "code",
      "execution_count": null,
      "metadata": {
        "id": "HZnKso9NO8lw"
      },
      "outputs": [],
      "source": [
        "import pickle \n",
        "filename =\"trained_model.sav\"#naming the file we want to save it in\n",
        "pickle.dump(GB,open(filename,\"wb\"))#saving the best model (GB)\n"
      ]
    },
    {
      "cell_type": "code",
      "execution_count": null,
      "metadata": {
        "id": "eWMzQO4WkJEk"
      },
      "outputs": [],
      "source": [
        "# loading the model \n",
        "load_model=pickle.load(open(\"/content/trained_model.sav\",\"rb\"))"
      ]
    }
  ],
  "metadata": {
    "colab": {
      "provenance": []
    },
    "kernelspec": {
      "display_name": "Python 3",
      "name": "python3"
    },
    "language_info": {
      "name": "python"
    }
  },
  "nbformat": 4,
  "nbformat_minor": 0
}
